{
  "nbformat": 4,
  "nbformat_minor": 0,
  "metadata": {
    "colab": {
      "provenance": [],
      "collapsed_sections": [
        "rphckI5jcXJA",
        "VfoP0-JldQ2k",
        "A7c3XdNieRs7",
        "-ytUQJROfrP_",
        "fMINUcsAmCGb",
        "Q--nCM72l-WH",
        "ncUE1moaiyma",
        "t7wslQHiqbPf",
        "Gza8_EEmsIBm",
        "A05OG15VqOPF",
        "2doIXf8bqe9_",
        "1KUpN7ZTrC3_",
        "RLrOBBJurLB2",
        "waLCP1bjr7ML",
        "VLrhg-FRsHjR",
        "LMy0BTUktYKa",
        "gJ7C5kZYt4BP",
        "FHrMM7g-yG1h",
        "QgyRX_es1oum",
        "eaql38ln13u7",
        "DxsDFG8ZgUoh",
        "CCbDdlkvmOa_",
        "VBXYcJUBpgKT",
        "NdSYZ92yw09l",
        "M2dIC4_YzfJp",
        "OzYMCIK-1s41",
        "dpkGLIE92HHy",
        "KeSD7_T55vEc",
        "8T9HkiB968sH",
        "j1SHxHrDIPnw",
        "clt9qm5oLUMi",
        "2ip-JEobhjOA",
        "nA1sTq9uG0bG",
        "j4K_vropmZui",
        "ClCQZMqT7gK0",
        "GwacF9Co72Qc"
      ]
    },
    "kernelspec": {
      "name": "python3",
      "display_name": "Python 3"
    },
    "language_info": {
      "name": "python"
    },
    "accelerator": "TPU",
    "gpuClass": "standard"
  },
  "cells": [
    {
      "cell_type": "markdown",
      "source": [
        "#Print Command"
      ],
      "metadata": {
        "id": "rphckI5jcXJA"
      }
    },
    {
      "cell_type": "code",
      "execution_count": null,
      "metadata": {
        "colab": {
          "base_uri": "https://localhost:8080/"
        },
        "id": "GpdIffbTcC7t",
        "outputId": "c8e06bb0-e4cc-440a-fae1-71d0fa7c016f"
      },
      "outputs": [
        {
          "output_type": "stream",
          "name": "stdout",
          "text": [
            "abc 7 5 5 True\n"
          ]
        }
      ],
      "source": [
        "print(\"abc\",7,5,5,True)"
      ]
    },
    {
      "cell_type": "code",
      "source": [
        "print(\"abc\",7,5,5,True,sep='/')"
      ],
      "metadata": {
        "colab": {
          "base_uri": "https://localhost:8080/"
        },
        "id": "nlsT1qhQcKA8",
        "outputId": "6006dd4b-e2ed-4032-eecb-4571599e87d9"
      },
      "execution_count": null,
      "outputs": [
        {
          "output_type": "stream",
          "name": "stdout",
          "text": [
            "abc/7/5/5/True\n"
          ]
        }
      ]
    },
    {
      "cell_type": "code",
      "source": [
        "print(\"hello\")\n",
        "print(\"world\")"
      ],
      "metadata": {
        "colab": {
          "base_uri": "https://localhost:8080/"
        },
        "id": "Iqy_lbsccQhv",
        "outputId": "0ecec219-5922-4beb-cd24-06b2a338002c"
      },
      "execution_count": null,
      "outputs": [
        {
          "output_type": "stream",
          "name": "stdout",
          "text": [
            "hello\n",
            "world\n"
          ]
        }
      ]
    },
    {
      "cell_type": "code",
      "source": [
        "print(\"hello\",end='-')\n",
        "print(\"world\")"
      ],
      "metadata": {
        "colab": {
          "base_uri": "https://localhost:8080/"
        },
        "id": "D4eiTvfEchF2",
        "outputId": "6a907a55-ef4b-42ff-8723-bc922954462b"
      },
      "execution_count": null,
      "outputs": [
        {
          "output_type": "stream",
          "name": "stdout",
          "text": [
            "hello-world\n"
          ]
        }
      ]
    },
    {
      "cell_type": "code",
      "source": [
        "# https://www.w3schools.com/python/ref_func_print.asp"
      ],
      "metadata": {
        "id": "380Vjy6Lcpsc"
      },
      "execution_count": null,
      "outputs": []
    },
    {
      "cell_type": "code",
      "source": [
        "#type function will tell you the data type\n",
        "\n",
        "print(type(5))\n",
        "print(type(6.5))\n",
        "print(type(False))"
      ],
      "metadata": {
        "colab": {
          "base_uri": "https://localhost:8080/"
        },
        "id": "2s-V5Bl1fyuW",
        "outputId": "19da7c5c-fd74-4ce9-a87b-ba1d362348d8"
      },
      "execution_count": null,
      "outputs": [
        {
          "output_type": "stream",
          "name": "stdout",
          "text": [
            "<class 'int'>\n",
            "<class 'float'>\n",
            "<class 'bool'>\n"
          ]
        }
      ]
    },
    {
      "cell_type": "markdown",
      "source": [
        "#Data Types"
      ],
      "metadata": {
        "id": "VfoP0-JldQ2k"
      }
    },
    {
      "cell_type": "code",
      "source": [
        "#int\n",
        "\n",
        "print(8)\n",
        "print(1e309)    #1*10 ki power 309\n",
        "print(1e308)"
      ],
      "metadata": {
        "colab": {
          "base_uri": "https://localhost:8080/"
        },
        "id": "dQpP12RMdPtT",
        "outputId": "b257d231-ca34-4e46-a9e9-6f80dc7d7005"
      },
      "execution_count": null,
      "outputs": [
        {
          "output_type": "stream",
          "name": "stdout",
          "text": [
            "8\n",
            "inf\n",
            "1e+308\n"
          ]
        }
      ]
    },
    {
      "cell_type": "code",
      "source": [
        "# float\n",
        "\n",
        "print(8.55)\n",
        "print(1.7e308)"
      ],
      "metadata": {
        "colab": {
          "base_uri": "https://localhost:8080/"
        },
        "id": "1JqtFmnydexb",
        "outputId": "53a32acd-e21c-46b6-fd20-1f6e6266b52e"
      },
      "execution_count": null,
      "outputs": [
        {
          "output_type": "stream",
          "name": "stdout",
          "text": [
            "8.55\n",
            "1.7e+308\n"
          ]
        }
      ]
    },
    {
      "cell_type": "code",
      "source": [
        "#str\n",
        "\n",
        "print('prashant jain')\n",
        "print('anything written under parenthesis is a str')"
      ],
      "metadata": {
        "colab": {
          "base_uri": "https://localhost:8080/"
        },
        "id": "an75_QncdrP5",
        "outputId": "5dfc29c1-d7bd-4bfc-edda-5e6d6dae00db"
      },
      "execution_count": null,
      "outputs": [
        {
          "output_type": "stream",
          "name": "stdout",
          "text": [
            "prashant jain\n",
            "anything written under parenthesis is a str\n"
          ]
        }
      ]
    },
    {
      "cell_type": "code",
      "source": [
        "#boolean\n",
        "\n",
        "print(True)\n",
        "print(False)"
      ],
      "metadata": {
        "colab": {
          "base_uri": "https://localhost:8080/"
        },
        "id": "SoSzwz-0dzl5",
        "outputId": "c75874e7-9294-47a8-e89d-a430a76f97c3"
      },
      "execution_count": null,
      "outputs": [
        {
          "output_type": "stream",
          "name": "stdout",
          "text": [
            "True\n",
            "False\n"
          ]
        }
      ]
    },
    {
      "cell_type": "code",
      "source": [
        "#complex number\n",
        "\n",
        "print(5+6j)"
      ],
      "metadata": {
        "colab": {
          "base_uri": "https://localhost:8080/"
        },
        "id": "E2wjZdMgd7uC",
        "outputId": "315b6734-ff42-4baf-824e-13f3c53ecfd1"
      },
      "execution_count": null,
      "outputs": [
        {
          "output_type": "stream",
          "name": "stdout",
          "text": [
            "(5+6j)\n"
          ]
        }
      ]
    },
    {
      "cell_type": "markdown",
      "source": [
        "#Data Structure"
      ],
      "metadata": {
        "id": "A7c3XdNieRs7"
      }
    },
    {
      "cell_type": "code",
      "source": [
        "#list\n",
        "\n",
        "print([1,2.4,'prashant',True])\n",
        "print(type([1,2.4,'prashant',True]))"
      ],
      "metadata": {
        "colab": {
          "base_uri": "https://localhost:8080/"
        },
        "id": "woJ-obWReDiG",
        "outputId": "b5fb5d1c-5001-43f5-9319-a7013c8b6c44"
      },
      "execution_count": null,
      "outputs": [
        {
          "output_type": "stream",
          "name": "stdout",
          "text": [
            "[1, 2.4, 'prashant', True]\n",
            "<class 'list'>\n"
          ]
        }
      ]
    },
    {
      "cell_type": "code",
      "source": [
        "#tuple\n",
        "\n",
        "print((1,2.4,'prashant',True))\n",
        "print(type((1,2.4,'prashant',True)))"
      ],
      "metadata": {
        "colab": {
          "base_uri": "https://localhost:8080/"
        },
        "id": "_GE1_yPIeZBE",
        "outputId": "52755dfc-9ce7-41fb-bb0d-d2eb5b88a6c0"
      },
      "execution_count": null,
      "outputs": [
        {
          "output_type": "stream",
          "name": "stdout",
          "text": [
            "(1, 2.4, 'prashant', True)\n",
            "<class 'tuple'>\n"
          ]
        }
      ]
    },
    {
      "cell_type": "code",
      "source": [
        "#sets\n",
        "\n",
        "print({1,2,3,3,4,5,6,7,6,8})\n",
        "print(type({1,2,3,3,4,5,6,7,6,8}))"
      ],
      "metadata": {
        "colab": {
          "base_uri": "https://localhost:8080/"
        },
        "id": "AgVfsY2UefBA",
        "outputId": "e963f2fa-0033-4bf7-ee2a-084e9f3b9fa1"
      },
      "execution_count": null,
      "outputs": [
        {
          "output_type": "stream",
          "name": "stdout",
          "text": [
            "{1, 2, 3, 4, 5, 6, 7, 8}\n",
            "<class 'set'>\n"
          ]
        }
      ]
    },
    {
      "cell_type": "code",
      "source": [
        "#dict\n",
        "\n",
        "print({'Name':'Prashant','Age':32,'Married':False})\n",
        "print(type({'Name':'Prashant','Age':32,'Married':False}))"
      ],
      "metadata": {
        "colab": {
          "base_uri": "https://localhost:8080/"
        },
        "id": "LHVMby3Xev-4",
        "outputId": "ac8abbf2-3356-4b93-eb3b-f370c42216c9"
      },
      "execution_count": null,
      "outputs": [
        {
          "output_type": "stream",
          "name": "stdout",
          "text": [
            "{'Name': 'Prashant', 'Age': 32, 'Married': False}\n",
            "<class 'dict'>\n"
          ]
        }
      ]
    },
    {
      "cell_type": "markdown",
      "source": [
        "#Variables"
      ],
      "metadata": {
        "id": "-ytUQJROfrP_"
      }
    },
    {
      "cell_type": "code",
      "source": [
        "#what is dynamic & static typing\n",
        "\n",
        "#In C/C++ we have to declare the variable type before creating\n",
        "#In python, we can simply create a varible & python will understand the datatype automaitcally given the value of the variable\n",
        "\n",
        "# int a = 5\n",
        "a = 5\n",
        "print(type(a))"
      ],
      "metadata": {
        "colab": {
          "base_uri": "https://localhost:8080/"
        },
        "id": "fD7BHCUXfsfG",
        "outputId": "e4f703b8-3166-4e90-8899-73dbf52a798d"
      },
      "execution_count": null,
      "outputs": [
        {
          "output_type": "stream",
          "name": "stdout",
          "text": [
            "<class 'int'>\n"
          ]
        }
      ]
    },
    {
      "cell_type": "code",
      "source": [
        "#dynamic binding\n",
        "\n",
        "# we can change the value of the variable to a value of dfrnt data type this is called dynamic binding\n",
        "#In C/C++ it's static.\n",
        "\n",
        "a = 5\n",
        "a = 'prashant'\n",
        "print(a)"
      ],
      "metadata": {
        "colab": {
          "base_uri": "https://localhost:8080/"
        },
        "id": "iJtXesdBhLzC",
        "outputId": "cf46bd79-433e-4137-8b5f-1b03f9256c47"
      },
      "execution_count": null,
      "outputs": [
        {
          "output_type": "stream",
          "name": "stdout",
          "text": [
            "prashant\n"
          ]
        }
      ]
    },
    {
      "cell_type": "code",
      "source": [
        "#creating 3 variables in 1 go\n",
        "\n",
        "a,b,c  =1,2,3\n",
        "print(a,b,c)"
      ],
      "metadata": {
        "colab": {
          "base_uri": "https://localhost:8080/"
        },
        "id": "uyX5G4k6hsOx",
        "outputId": "482fb166-6526-4a16-91da-d2a56fece5aa"
      },
      "execution_count": null,
      "outputs": [
        {
          "output_type": "stream",
          "name": "stdout",
          "text": [
            "1 2 3\n"
          ]
        }
      ]
    },
    {
      "cell_type": "code",
      "source": [
        "a=b=c=5\n",
        "print(a,b,c)"
      ],
      "metadata": {
        "colab": {
          "base_uri": "https://localhost:8080/"
        },
        "id": "0ylVv6-liJ9f",
        "outputId": "830113cd-e1bf-4583-b367-90a28040ab89"
      },
      "execution_count": null,
      "outputs": [
        {
          "output_type": "stream",
          "name": "stdout",
          "text": [
            "5 5 5\n"
          ]
        }
      ]
    },
    {
      "cell_type": "markdown",
      "source": [
        "#comments"
      ],
      "metadata": {
        "id": "fMINUcsAmCGb"
      }
    },
    {
      "cell_type": "code",
      "source": [
        "# to define the code we use comments in python\n",
        "# using \"#\""
      ],
      "metadata": {
        "id": "GXH6DbT6mBvL"
      },
      "execution_count": null,
      "outputs": []
    },
    {
      "cell_type": "markdown",
      "source": [
        "#keywords & identifiers"
      ],
      "metadata": {
        "id": "Q--nCM72l-WH"
      }
    },
    {
      "cell_type": "code",
      "source": [
        "#compilation is a process to convert your code into binary numbers\n",
        "#its done by either \"compiler\" or \"interpreter\"\n",
        "#like C & C++ is a complied language & python is a interpreter language"
      ],
      "metadata": {
        "id": "AOublPVol9nN"
      },
      "execution_count": null,
      "outputs": []
    },
    {
      "cell_type": "markdown",
      "source": [
        "![image.png](data:image/png;base64,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)"
      ],
      "metadata": {
        "id": "ZlW-w8BSnWDo"
      }
    },
    {
      "cell_type": "code",
      "source": [
        "#compiler or interpreter use these keywords to convert high level language to low level language\n",
        "#we should not use these keywords as variable names in code bcoz they are reserved for python\n",
        "#otherwise code will crash"
      ],
      "metadata": {
        "id": "ma8ma-IUnZ4d"
      },
      "execution_count": null,
      "outputs": []
    },
    {
      "cell_type": "code",
      "source": [
        "#rules to write identifiers or variable name\n",
        "\n",
        "# 1name = 'prashant'    #this will not work, variable must not start with digit\n",
        "# _name = 'prashant'    #this will work\n",
        "# name1 = 'prashnat'    #this will work\n",
        "#_ = name               #this will work\n",
        "#variable name cant be keywords"
      ],
      "metadata": {
        "id": "tD8Vn1XrodJk"
      },
      "execution_count": null,
      "outputs": []
    },
    {
      "cell_type": "markdown",
      "source": [
        "#Test program - 1\n",
        "Take 2 input from user & print the sum "
      ],
      "metadata": {
        "id": "ncUE1moaiyma"
      }
    },
    {
      "cell_type": "code",
      "source": [
        "num1 = int(input(\"Enter 1st number\"))\n",
        "num2 = int(input(\"Enter 2nd number\"))\n",
        "\n",
        "print(num1 + num2)"
      ],
      "metadata": {
        "colab": {
          "base_uri": "https://localhost:8080/"
        },
        "id": "1o2U8HPLimJG",
        "outputId": "41bef9fd-f697-4e2f-9b9e-f101b88d2bf0"
      },
      "execution_count": null,
      "outputs": [
        {
          "output_type": "stream",
          "name": "stdout",
          "text": [
            "Enter 1st number2\n",
            "Enter 2nd number3\n",
            "5\n"
          ]
        }
      ]
    },
    {
      "cell_type": "markdown",
      "source": [
        "#Type conversion"
      ],
      "metadata": {
        "id": "t7wslQHiqbPf"
      }
    },
    {
      "cell_type": "code",
      "source": [
        "#Implicit vs Explicit\n",
        "\n",
        "print(5 + 5.6)\n",
        "print(type(5))\n",
        "print(type(5.6))\n",
        "\n",
        "#In implicit type conversion, python interpreter will try to convert the data type if possible without throwing error"
      ],
      "metadata": {
        "colab": {
          "base_uri": "https://localhost:8080/"
        },
        "id": "lEhVjy35jHBC",
        "outputId": "7050e710-7df7-42f9-de07-c88737e8a6b6"
      },
      "execution_count": null,
      "outputs": [
        {
          "output_type": "stream",
          "name": "stdout",
          "text": [
            "10.6\n",
            "<class 'int'>\n",
            "<class 'float'>\n"
          ]
        }
      ]
    },
    {
      "cell_type": "code",
      "source": [
        "#In explicit type conversion, we convert the data type using predefined functions\n",
        "#which is called type conversion\n",
        "\n",
        "a = \"5\"\n",
        "b = 6\n",
        "\n",
        "print(type(a))\n",
        "print(type(b))\n",
        "\n",
        "print(int(a))\n",
        "print(type(int(a)))\n",
        "\n",
        "print(int(a) + b)"
      ],
      "metadata": {
        "colab": {
          "base_uri": "https://localhost:8080/"
        },
        "id": "WwfaiOirqfgO",
        "outputId": "bd4d8562-5e6f-4dd6-9ca0-c4d6a54bc185"
      },
      "execution_count": null,
      "outputs": [
        {
          "output_type": "stream",
          "name": "stdout",
          "text": [
            "<class 'str'>\n",
            "<class 'int'>\n",
            "5\n",
            "<class 'int'>\n",
            "11\n"
          ]
        }
      ]
    },
    {
      "cell_type": "markdown",
      "source": [
        "#Literals"
      ],
      "metadata": {
        "id": "Gza8_EEmsIBm"
      }
    },
    {
      "cell_type": "code",
      "source": [
        "#value stored in variable is called literal\n",
        "#for ex: a = 2\n",
        "# a is variable, = is operator & 2 is literal"
      ],
      "metadata": {
        "id": "TNZJH8GnrU0A"
      },
      "execution_count": null,
      "outputs": []
    },
    {
      "cell_type": "code",
      "source": [
        "a = 0b1010 #Binary Literals\n",
        "b = 100 #Decimal Literal \n",
        "c = 0o310 #Octal Literal\n",
        "d = 0x12c #Hexadecimal Literal\n",
        "\n",
        "#Float Literal\n",
        "float_1 = 10.5 \n",
        "float_2 = 1.5e2 # 1.5 * 10^2\n",
        "float_3 = 1.5e-3 # 1.5 * 10^-3\n",
        "\n",
        "#Complex Literal \n",
        "x = 3.14j\n",
        "\n",
        "print(a, b, c, d)\n",
        "print(float_1, float_2,float_3)\n",
        "print(x, x.imag, x.real)"
      ],
      "metadata": {
        "id": "lAAAfaO7sRrh",
        "colab": {
          "base_uri": "https://localhost:8080/"
        },
        "outputId": "cc58544b-d6d8-4b96-f7eb-74ba32d7cc44"
      },
      "execution_count": null,
      "outputs": [
        {
          "output_type": "stream",
          "name": "stdout",
          "text": [
            "10 100 200 300\n",
            "10.5 150.0 0.0015\n",
            "3.14j 3.14 0.0\n"
          ]
        }
      ]
    },
    {
      "cell_type": "code",
      "source": [
        "# binary\n",
        "x = 3.14j\n",
        "print(x.imag)"
      ],
      "metadata": {
        "colab": {
          "base_uri": "https://localhost:8080/"
        },
        "id": "sdsbGJYauD8H",
        "outputId": "a6ffaa83-4382-4690-bcd9-d71774862824"
      },
      "execution_count": null,
      "outputs": [
        {
          "output_type": "stream",
          "name": "stdout",
          "text": [
            "3.14\n"
          ]
        }
      ]
    },
    {
      "cell_type": "code",
      "source": [
        "string = 'This is Python'\n",
        "strings = \"This is Python\"\n",
        "char = \"C\"\n",
        "multiline_str = \"\"\"This is a multiline string with more than one line code.\"\"\"\n",
        "unicode = u\"\\U0001f600\\U0001F606\\U0001F923\"\n",
        "raw_str = r\"raw \\n string\"\n",
        "\n",
        "print(string)\n",
        "print(strings)\n",
        "print(char)\n",
        "print(multiline_str)\n",
        "print(unicode)\n",
        "print(raw_str)"
      ],
      "metadata": {
        "colab": {
          "base_uri": "https://localhost:8080/"
        },
        "id": "TDTlwSnVuF9n",
        "outputId": "e41fafa5-3b81-449b-cda1-0fdedef8841a"
      },
      "execution_count": null,
      "outputs": [
        {
          "output_type": "stream",
          "name": "stdout",
          "text": [
            "This is Python\n",
            "This is Python\n",
            "C\n",
            "This is a multiline string with more than one line code.\n",
            "😀😆🤣\n",
            "raw \\n string\n"
          ]
        }
      ]
    },
    {
      "cell_type": "code",
      "source": [
        "a = True + 4\n",
        "b = False + 10\n",
        "\n",
        "print(\"a:\", a)\n",
        "print(\"b:\", b)"
      ],
      "metadata": {
        "colab": {
          "base_uri": "https://localhost:8080/"
        },
        "id": "0fD1cak_uHFt",
        "outputId": "338920f6-44de-42e2-d1e7-36f76b254c48"
      },
      "execution_count": null,
      "outputs": [
        {
          "output_type": "stream",
          "name": "stdout",
          "text": [
            "a: 5\n",
            "b: 10\n"
          ]
        }
      ]
    },
    {
      "cell_type": "code",
      "source": [
        "k = None\n",
        "a = 5\n",
        "b = 6\n",
        "print('Program exe')"
      ],
      "metadata": {
        "colab": {
          "base_uri": "https://localhost:8080/"
        },
        "id": "OLy2mYViuIFj",
        "outputId": "21db2cc9-1b35-4902-8f32-ba65c7aca35f"
      },
      "execution_count": null,
      "outputs": [
        {
          "output_type": "stream",
          "name": "stdout",
          "text": [
            "Program exe\n"
          ]
        }
      ]
    },
    {
      "cell_type": "markdown",
      "source": [
        "# Task : Session 1\n",
        "Solve these questions own your own and try to test yourself what you have learned in the session."
      ],
      "metadata": {
        "id": "A05OG15VqOPF"
      }
    },
    {
      "cell_type": "markdown",
      "source": [
        "### Q1 :- Print the given strings as per stated format.\n",
        "\n",
        "**Given strings**: \n",
        "```\n",
        "\"Data\" \"Science\" \"Mentorship\" \"Program\" \n",
        "\"By\" \"CampusX\"\n",
        "```\n",
        "**Output**: \n",
        "``` \n",
        "Data-Science-Mentorship-Program-started-By-CampusX\n",
        "```\n",
        "\n",
        "Concept- [Seperator and End]"
      ],
      "metadata": {
        "id": "2doIXf8bqe9_"
      }
    },
    {
      "cell_type": "code",
      "source": [
        "print(\"Data\",\"Science\",\"Mentorship\",\"Program\", \n",
        "\"By\",\"CampusX\",sep='-',end='')"
      ],
      "metadata": {
        "id": "-em6d3KErDtp",
        "colab": {
          "base_uri": "https://localhost:8080/"
        },
        "outputId": "311a52ed-b554-48f6-bbdb-c0ec91d0fe45"
      },
      "execution_count": null,
      "outputs": [
        {
          "output_type": "stream",
          "name": "stdout",
          "text": [
            "Data-Science-Mentorship-Program-By-CampusX"
          ]
        }
      ]
    },
    {
      "cell_type": "markdown",
      "source": [
        "### Q2:- Write a program that will convert celsius value to fahrenheit."
      ],
      "metadata": {
        "id": "1KUpN7ZTrC3_"
      }
    },
    {
      "cell_type": "code",
      "source": [
        "celcius_temp = 24\n",
        "feh_temp = (celcius_temp * 1.8)/32\n",
        "print(feh_temp)"
      ],
      "metadata": {
        "id": "yxKYhYQiqWfj",
        "colab": {
          "base_uri": "https://localhost:8080/"
        },
        "outputId": "8702481e-527d-4a31-cddf-1a3d83188242"
      },
      "execution_count": null,
      "outputs": [
        {
          "output_type": "stream",
          "name": "stdout",
          "text": [
            "1.35\n"
          ]
        }
      ]
    },
    {
      "cell_type": "markdown",
      "source": [
        "### Q3:- Take 2 numbers as input from the user.Write a program to swap the numbers without using any special python syntax."
      ],
      "metadata": {
        "id": "RLrOBBJurLB2"
      }
    },
    {
      "cell_type": "code",
      "source": [
        "num1 = int(input(\"Enter first number\"))\n",
        "num2 = int(input(\"Enter second number\"))\n",
        "\n",
        "num1,num2 = num2,num1\n",
        "\n",
        "print(num1,num2)"
      ],
      "metadata": {
        "id": "yPn7if0TrJ4F",
        "colab": {
          "base_uri": "https://localhost:8080/"
        },
        "outputId": "d1868236-229d-48be-eee1-10a025a7e41e"
      },
      "execution_count": null,
      "outputs": [
        {
          "output_type": "stream",
          "name": "stdout",
          "text": [
            "Enter first number2\n",
            "Enter second number3\n",
            "3 2\n"
          ]
        }
      ]
    },
    {
      "cell_type": "markdown",
      "source": [
        "### Q4:- Write a program to find the euclidean distance between two coordinates.Take both the coordinates from the user as input."
      ],
      "metadata": {
        "id": "waLCP1bjr7ML"
      }
    },
    {
      "cell_type": "code",
      "source": [
        "# Write your code here\n",
        "p1x = int(input('enter x cood of 1st point'))\n",
        "p1y = int(input('enter y cood of 1st point'))\n",
        "p2x = int(input('enter x cood of 2nd point'))\n",
        "p2y = int(input('enter y cood of 2nd point'))\n",
        "\n",
        "distance = ((p2x - p1x)**2 + (p2y - p1y)**2)**0.5\n",
        "\n",
        "print(round(distance,2))"
      ],
      "metadata": {
        "id": "Pl1Sv-xnrxnH",
        "colab": {
          "base_uri": "https://localhost:8080/"
        },
        "outputId": "05b26850-3b7c-4f2c-ccbb-d27ab5d9f81b"
      },
      "execution_count": null,
      "outputs": [
        {
          "output_type": "stream",
          "name": "stdout",
          "text": [
            "enter x cood of 1st point1\n",
            "enter y cood of 1st point2\n",
            "enter x cood of 2nd point3\n",
            "enter y cood of 2nd point4\n",
            "2.83\n"
          ]
        }
      ]
    },
    {
      "cell_type": "markdown",
      "source": [
        "11\n",
        "### Q5:- Write a program to find the simple interest when the value of principle,rate of interest and time period is provided by the user.\n"
      ],
      "metadata": {
        "id": "VLrhg-FRsHjR"
      }
    },
    {
      "cell_type": "code",
      "source": [
        "principle = int(input(\"Enter Principle Amount\"))\n",
        "roi = int(input(\"Enter ROI\"))\n",
        "time_period = int(input(\"Enter time period\"))\n",
        "\n",
        "simple_intrest = principle*(1+(roi*time_period))\n",
        "print(simple_intrest)"
      ],
      "metadata": {
        "id": "s40DlReZsTmY",
        "colab": {
          "base_uri": "https://localhost:8080/"
        },
        "outputId": "b364127b-332b-429b-ae9c-a3caf818b2b6"
      },
      "execution_count": null,
      "outputs": [
        {
          "output_type": "stream",
          "name": "stdout",
          "text": [
            "Enter Principle Amount2\n",
            "Enter ROI3\n",
            "Enter time period4\n",
            "26\n"
          ]
        }
      ]
    },
    {
      "cell_type": "markdown",
      "source": [
        "### Q6:- Write a program that will tell the number of dogs and chicken are there when the user will provide the value of total heads and legs.\n",
        "\n",
        "For example:\n",
        "Input:\n",
        "heads -> 4\n",
        "legs -> 12\n",
        "<br>\n",
        "Output:\n",
        "dogs -> 2\n",
        "chicken -> 2\n",
        "\n",
        "\n",
        "\n"
      ],
      "metadata": {
        "id": "LMy0BTUktYKa"
      }
    },
    {
      "cell_type": "code",
      "source": [
        "heads = int(input(\"Enter total heads\"))\n",
        "legs = int(input(\"Enter total legs\"))\n",
        "\n",
        "# dog >> 1 head & 4 legs\n",
        "# chicke >> 1 head & 2 legs\n",
        "\n"
      ],
      "metadata": {
        "id": "XSBvJoA4tXaG"
      },
      "execution_count": null,
      "outputs": []
    },
    {
      "cell_type": "markdown",
      "source": [
        "### Q7:- Write a program to find the sum of squares of first n natural numbers where n will be provided by the user."
      ],
      "metadata": {
        "id": "gJ7C5kZYt4BP"
      }
    },
    {
      "cell_type": "code",
      "source": [
        "# Write your code here"
      ],
      "metadata": {
        "id": "_tHsmEHzt2nX"
      },
      "execution_count": null,
      "outputs": []
    },
    {
      "cell_type": "markdown",
      "source": [
        "### Q8:- Given the first 2 terms of an Arithmetic Series.Find the Nth term of the series. Assume all inputs are provided by the user."
      ],
      "metadata": {
        "id": "FHrMM7g-yG1h"
      }
    },
    {
      "cell_type": "code",
      "source": [
        "# Write your code here"
      ],
      "metadata": {
        "id": "go4_kmZmyVSx"
      },
      "execution_count": null,
      "outputs": []
    },
    {
      "cell_type": "markdown",
      "source": [
        "### Q9:- Given 2 fractions, find the sum of those 2 fractions.Take the numerator and denominator values of the fractions from the user."
      ],
      "metadata": {
        "id": "QgyRX_es1oum"
      }
    },
    {
      "cell_type": "code",
      "source": [
        "# Write your code here"
      ],
      "metadata": {
        "id": "X05xqFS1yW16"
      },
      "execution_count": null,
      "outputs": []
    },
    {
      "cell_type": "markdown",
      "source": [
        "### Q10:- Given the height, width and breadth of a milk tank, you have to find out how many glasses of milk can be obtained? Assume all the inputs are provided by the user.\n",
        "\n",
        "\n",
        "\n",
        "Input:<br>\n",
        "Dimensions of the milk tank<br>\n",
        "H = 20cm, L = 20cm, B = 20cm\n",
        "<br><br>\n",
        "Dimensions of the glass<br>\n",
        "h = 3cm, r = 1cm"
      ],
      "metadata": {
        "id": "eaql38ln13u7"
      }
    },
    {
      "cell_type": "code",
      "source": [
        "# Write your code here"
      ],
      "metadata": {
        "id": "FePZqno74eWv"
      },
      "execution_count": null,
      "outputs": []
    },
    {
      "cell_type": "markdown",
      "source": [
        "# Operators\n",
        "\n",
        "1. Artithmetic --> + - * /\n",
        "2. Relational --> > < >= <=\n",
        "3. Logical --> AND OR NOT\n",
        "4. Bitwise -->\n",
        "5. Assignment --> =\n",
        "6. Membership --> "
      ],
      "metadata": {
        "id": "DxsDFG8ZgUoh"
      }
    },
    {
      "cell_type": "code",
      "source": [
        "#Artithmetic\n",
        "\n",
        "print(5+4)\n",
        "print(5-4)\n",
        "print(5*4)\n",
        "print(5/2)\n",
        "print(5//2)    #this converts float answer to int (integer devision)\n",
        "print(5%2)     #returns the remainder \n",
        "print(5**3)    #power of operator (5 to the power 2) "
      ],
      "metadata": {
        "colab": {
          "base_uri": "https://localhost:8080/"
        },
        "id": "ymSY2AmPgbbB",
        "outputId": "f507d538-4d59-4832-c1a3-d6bae3b5d4a3"
      },
      "execution_count": null,
      "outputs": [
        {
          "output_type": "stream",
          "name": "stdout",
          "text": [
            "9\n",
            "1\n",
            "20\n",
            "2.5\n",
            "2\n",
            "1\n",
            "125\n"
          ]
        }
      ]
    },
    {
      "cell_type": "code",
      "source": [
        "# Relational\n",
        "\n",
        "print(4>5)\n",
        "print(4<5)\n",
        "print(5>=5)\n",
        "print(5<=5)\n",
        "print(5==3)\n",
        "print(5!=3)"
      ],
      "metadata": {
        "colab": {
          "base_uri": "https://localhost:8080/"
        },
        "id": "EIhqGSLQhgF0",
        "outputId": "ec63a547-bfe6-499d-95b6-886ce515a0b4"
      },
      "execution_count": null,
      "outputs": [
        {
          "output_type": "stream",
          "name": "stdout",
          "text": [
            "False\n",
            "True\n",
            "True\n",
            "True\n",
            "False\n",
            "True\n"
          ]
        }
      ]
    },
    {
      "cell_type": "code",
      "source": [
        "#Logical\n",
        "\n",
        "# AND = if both are 1 then returns 1, if anyone is 0 or both are 0 then returns 0\n",
        "\n",
        "print(1 and 0)\n",
        "print(0 and 0)"
      ],
      "metadata": {
        "colab": {
          "base_uri": "https://localhost:8080/"
        },
        "id": "B9-Hpi8EiEt9",
        "outputId": "467947b3-bec1-4341-eea3-249b26981b44"
      },
      "execution_count": null,
      "outputs": [
        {
          "output_type": "stream",
          "name": "stdout",
          "text": [
            "0\n",
            "0\n"
          ]
        }
      ]
    },
    {
      "cell_type": "code",
      "source": [
        "# OR = ig anyone is 1 then returns 1\n",
        "\n",
        "print(1 or 0)"
      ],
      "metadata": {
        "colab": {
          "base_uri": "https://localhost:8080/"
        },
        "id": "jz2_c9K-iluD",
        "outputId": "f8520605-d24c-43d5-ac43-f99355f19de9"
      },
      "execution_count": null,
      "outputs": [
        {
          "output_type": "stream",
          "name": "stdout",
          "text": [
            "1\n"
          ]
        }
      ]
    },
    {
      "cell_type": "code",
      "source": [
        "#NOT = converts 1 to 0 & o to 1\n",
        "#In python, True is 1 & False is 0\n",
        "\n",
        "print(not 0)\n",
        "print(not 1)"
      ],
      "metadata": {
        "colab": {
          "base_uri": "https://localhost:8080/"
        },
        "id": "-cchAtIOi64h",
        "outputId": "464eb201-8400-465e-858d-c108c5cc73c3"
      },
      "execution_count": null,
      "outputs": [
        {
          "output_type": "stream",
          "name": "stdout",
          "text": [
            "True\n",
            "False\n"
          ]
        }
      ]
    },
    {
      "cell_type": "code",
      "source": [
        "#Bitwise - operates on binary values\n",
        "\n",
        "#bitwise and\n",
        "print(2 & 3)\n",
        "\n",
        "#bitwise or\n",
        "print(2 | 3)\n",
        "\n",
        "\n",
        "# 010\n",
        "# 110\n",
        "# ---\n",
        "# 010\n",
        "\n",
        "#bitwise XOR\n",
        "#0 in same, 1 in different \n",
        "\n",
        "print(2 ^ 3)\n",
        "\n",
        "\n",
        "#bitwise NOT\n",
        "#change 1 to 0 & 0 to 1 \n",
        "print(~2)\n",
        "\n",
        "#leftshift bitwise\n",
        "print(4 >> 2)\n",
        "\n",
        "\n",
        "#rightshift bitwise\n",
        "print(4 << 2)"
      ],
      "metadata": {
        "colab": {
          "base_uri": "https://localhost:8080/"
        },
        "id": "3MGKBtOPi_CN",
        "outputId": "4b773b0d-bac0-4824-feaa-cfa33919a116"
      },
      "execution_count": null,
      "outputs": [
        {
          "output_type": "stream",
          "name": "stdout",
          "text": [
            "2\n",
            "3\n",
            "1\n",
            "-3\n",
            "1\n",
            "16\n"
          ]
        }
      ]
    },
    {
      "cell_type": "code",
      "source": [
        "#Assignment\n",
        "\n",
        "a = 2\n",
        "\n",
        "# \"=\" is a asignment operator\n",
        "\n",
        "a += 2\n",
        "print(a)"
      ],
      "metadata": {
        "colab": {
          "base_uri": "https://localhost:8080/"
        },
        "id": "gRqV4nG1jU03",
        "outputId": "c0753f82-f13f-4bf8-df21-a6b8a27aa6cb"
      },
      "execution_count": null,
      "outputs": [
        {
          "output_type": "stream",
          "name": "stdout",
          "text": [
            "4\n"
          ]
        }
      ]
    },
    {
      "cell_type": "code",
      "source": [
        "#Membership\n",
        "#in or not in\n",
        "#find whether D is available in Delhi or nots\n",
        "\n",
        "\n",
        "print('D' in 'Delhi')\n",
        "print('D' not in 'Delhi')"
      ],
      "metadata": {
        "colab": {
          "base_uri": "https://localhost:8080/"
        },
        "id": "SybMUX4_lO3S",
        "outputId": "dea99cad-ab69-453a-e435-144d0096974c"
      },
      "execution_count": null,
      "outputs": [
        {
          "output_type": "stream",
          "name": "stdout",
          "text": [
            "True\n",
            "False\n"
          ]
        }
      ]
    },
    {
      "cell_type": "markdown",
      "source": [
        "# Program - 2\n",
        "Find a sum of 3 digit number entered by user"
      ],
      "metadata": {
        "id": "CCbDdlkvmOa_"
      }
    },
    {
      "cell_type": "code",
      "source": [
        "num = int(input(\"Enter 3 digit number\"))\n",
        "print(num)"
      ],
      "metadata": {
        "colab": {
          "base_uri": "https://localhost:8080/"
        },
        "id": "VZd_uzhRlnwA",
        "outputId": "a8040513-0709-418f-ce40-fa4bff436da1"
      },
      "execution_count": null,
      "outputs": [
        {
          "output_type": "stream",
          "name": "stdout",
          "text": [
            "Enter 3 digit number786\n",
            "786\n"
          ]
        }
      ]
    },
    {
      "cell_type": "code",
      "source": [
        "a = num % 10\n",
        "print(a)"
      ],
      "metadata": {
        "colab": {
          "base_uri": "https://localhost:8080/"
        },
        "id": "fBXSLf1mmhkm",
        "outputId": "e5eb0216-7868-400e-c0e1-bd239bdafe89"
      },
      "execution_count": null,
      "outputs": [
        {
          "output_type": "stream",
          "name": "stdout",
          "text": [
            "6\n"
          ]
        }
      ]
    },
    {
      "cell_type": "code",
      "source": [
        "num = num // 10\n",
        "print(num)"
      ],
      "metadata": {
        "colab": {
          "base_uri": "https://localhost:8080/"
        },
        "id": "fTkWOFYZnAT1",
        "outputId": "39b95b35-d44a-4ed0-92b8-d1926f0c8e36"
      },
      "execution_count": null,
      "outputs": [
        {
          "output_type": "stream",
          "name": "stdout",
          "text": [
            "78\n"
          ]
        }
      ]
    },
    {
      "cell_type": "code",
      "source": [
        "b = num % 10\n",
        "print(b)"
      ],
      "metadata": {
        "colab": {
          "base_uri": "https://localhost:8080/"
        },
        "id": "JL5AH37ZnTGc",
        "outputId": "1a25a903-824a-48a7-d16a-5560fc21dad8"
      },
      "execution_count": null,
      "outputs": [
        {
          "output_type": "stream",
          "name": "stdout",
          "text": [
            "8\n"
          ]
        }
      ]
    },
    {
      "cell_type": "code",
      "source": [
        "num = num // 10\n",
        "print(num)"
      ],
      "metadata": {
        "colab": {
          "base_uri": "https://localhost:8080/"
        },
        "id": "NIgEkqn3oN7E",
        "outputId": "28b15ef0-1e77-4e7e-a511-16b4a9284582"
      },
      "execution_count": null,
      "outputs": [
        {
          "output_type": "stream",
          "name": "stdout",
          "text": [
            "7\n"
          ]
        }
      ]
    },
    {
      "cell_type": "code",
      "source": [
        "c = num\n",
        "print(c)"
      ],
      "metadata": {
        "colab": {
          "base_uri": "https://localhost:8080/"
        },
        "id": "vK-LXr1xoUH7",
        "outputId": "97692237-4ff7-4f47-ddc8-60630844fec3"
      },
      "execution_count": null,
      "outputs": [
        {
          "output_type": "stream",
          "name": "stdout",
          "text": [
            "7\n"
          ]
        }
      ]
    },
    {
      "cell_type": "code",
      "source": [
        "print(a + b + c)"
      ],
      "metadata": {
        "colab": {
          "base_uri": "https://localhost:8080/"
        },
        "id": "IIvEO8-soigO",
        "outputId": "a5b1f9f9-be74-4b32-b7d1-8ef389628da0"
      },
      "execution_count": null,
      "outputs": [
        {
          "output_type": "stream",
          "name": "stdout",
          "text": [
            "21\n"
          ]
        }
      ]
    },
    {
      "cell_type": "markdown",
      "source": [
        "# If-Else"
      ],
      "metadata": {
        "id": "VBXYcJUBpgKT"
      }
    },
    {
      "cell_type": "code",
      "source": [
        "#when your program have 2 condition: you use IF or ELSE statements to execute further\n",
        "#like you have a website & when user tries to login, you use IF statement as IF login & pswd is correct then enter, \n",
        "#ELSE show incorrect id password error"
      ],
      "metadata": {
        "id": "64X_6JKapCIh"
      },
      "execution_count": null,
      "outputs": []
    },
    {
      "cell_type": "code",
      "source": [
        "# ex1\n",
        "#correct email - pj@gmail.com\n",
        "#correct password - 1234\n",
        "\n",
        "email = input(\"Enter your email\")\n",
        "password = input(\"Enter your password\")\n",
        "\n",
        "if email == \"pj@gmail.com\" and password == \"1234\":\n",
        "  print(\"Login Successful\")\n",
        "\n",
        "else:\n",
        "  print(\"Incorrect credentials\")  "
      ],
      "metadata": {
        "colab": {
          "base_uri": "https://localhost:8080/"
        },
        "id": "-jMA6NX0prRj",
        "outputId": "c4bd4edb-49e5-4190-f915-aa2c74014174"
      },
      "execution_count": null,
      "outputs": [
        {
          "output_type": "stream",
          "name": "stdout",
          "text": [
            "Enter your email\n",
            "Enter your password123\n",
            "Incorrect credentials\n"
          ]
        }
      ]
    },
    {
      "cell_type": "code",
      "source": [
        "#ex2\n",
        "#if any 1 info out of 2 is incorrect so we want to give another chance to enter again\n",
        "#check conditions again \n",
        "\n",
        "email = input(\"Enter your email\")\n",
        "password = input(\"Enter your password\")\n",
        "\n",
        "if email == \"pj@gmail.com\" and password == \"1234\":\n",
        "  print(\"Login Successful\")\n",
        "\n",
        "elif email != \"pj@gmail.com\" and password == \"1234\":\n",
        "  print(\"Enter Correct email\")\n",
        "  email = input(\"Enter your email\")\n",
        "  if email == 'pj@gmail.com':\n",
        "    print(\"Finally\")\n",
        "  else:\n",
        "    print(\"Chal bhak\")    \n",
        "  \n",
        "elif email == \"pj@gmail.com\" and password != \"1234\":\n",
        "  print(\"Enter correct password\")\n",
        "  password = input(\"Enter your password\")\n",
        "  if password == '1234':\n",
        "    print(\"finally\")\n",
        "  else:\n",
        "    print(\"Chal bhak\")    \n",
        "\n",
        "else:\n",
        "  print(\"Incorrect credentials\")"
      ],
      "metadata": {
        "colab": {
          "base_uri": "https://localhost:8080/"
        },
        "id": "tB2T9tQAqqX9",
        "outputId": "7c65f60c-b874-4fb5-8cee-8dda43042758"
      },
      "execution_count": null,
      "outputs": [
        {
          "output_type": "stream",
          "name": "stdout",
          "text": [
            "Enter your emailpj@gmail.com\n",
            "Enter your password1234\n",
            "Login Successful\n"
          ]
        }
      ]
    },
    {
      "cell_type": "code",
      "source": [
        "#ex3\n",
        "#find min of 3 numbers\n",
        "\n",
        "n1 = int(input(\"Enter 1st number\"))\n",
        "n2 = int(input(\"Enter 2nd number\"))\n",
        "n3 = int(input(\"Enter 3rd number\"))\n",
        "\n",
        "if n1 < n2 and n1 < n3:\n",
        "  print(\"min number is: \",n1)\n",
        "\n",
        "elif n2 < n3:\n",
        "  print(\"min number is: \",n2)\n",
        "\n",
        "else:\n",
        "  print(\"min number is: \",n3)"
      ],
      "metadata": {
        "colab": {
          "base_uri": "https://localhost:8080/"
        },
        "id": "CjdP91uwrx58",
        "outputId": "4722ed32-4597-433b-bc2a-c4f4baa63e47"
      },
      "execution_count": null,
      "outputs": [
        {
          "output_type": "stream",
          "name": "stdout",
          "text": [
            "Enter 1st number3\n",
            "Enter 2nd number2\n",
            "Enter 3rd number1\n",
            "min number is:  1\n"
          ]
        }
      ]
    },
    {
      "cell_type": "code",
      "source": [
        "#ex4\n",
        "#calc\n",
        "\n",
        "n1 = int(input(\"Enter 1st num\"))\n",
        "n2 = int(input(\"Enter 2nd num\"))\n",
        "op = input(\"\"\"Enter + for sum, - for substraction, * for multiplication and / for division\"\"\")\n",
        "\n",
        "if op == \"+\":\n",
        "  print(n1 + n2)\n",
        "\n",
        "elif op == \"-\":\n",
        "  print(n1 - n2)\n",
        "\n",
        "elif op == \"*\":\n",
        "  print(n1*n2)\n",
        "\n",
        "else:\n",
        "  print(n1/n2)    \n"
      ],
      "metadata": {
        "colab": {
          "base_uri": "https://localhost:8080/"
        },
        "id": "NZGKzZwbw8kn",
        "outputId": "91fb6472-eb60-498d-f546-ae5ef194b3ee"
      },
      "execution_count": null,
      "outputs": [
        {
          "output_type": "stream",
          "name": "stdout",
          "text": [
            "Enter 1st num25\n",
            "Enter 2nd num5\n",
            "Enter + for sum, - for substraction, * for multiplication and / for division+\n",
            "30\n"
          ]
        }
      ]
    },
    {
      "cell_type": "markdown",
      "source": [
        "#Modules\n",
        "\n",
        "1. math\n",
        "2. keywords\n",
        "3. datetime\n",
        "4. random"
      ],
      "metadata": {
        "id": "NdSYZ92yw09l"
      }
    },
    {
      "cell_type": "code",
      "source": [
        "#modules is a file of functions written by someone else which we can use in our program"
      ],
      "metadata": {
        "id": "gBZ5s5hLu_BF"
      },
      "execution_count": null,
      "outputs": []
    },
    {
      "cell_type": "code",
      "source": [
        "#math\n",
        "import math\n",
        "\n",
        "math.factorial(5)\n",
        "math.floor(6.7)\n",
        "math.sqrt(4)"
      ],
      "metadata": {
        "colab": {
          "base_uri": "https://localhost:8080/"
        },
        "id": "GgJibhT5yOLX",
        "outputId": "7f6bcc2e-7813-4e5c-f48f-d61126ee2c1a"
      },
      "execution_count": null,
      "outputs": [
        {
          "output_type": "execute_result",
          "data": {
            "text/plain": [
              "2.0"
            ]
          },
          "metadata": {},
          "execution_count": 239
        }
      ]
    },
    {
      "cell_type": "code",
      "source": [
        "#keywords\n",
        "import keyword\n",
        "print(keyword.kwlist)"
      ],
      "metadata": {
        "colab": {
          "base_uri": "https://localhost:8080/"
        },
        "id": "Zxu0S4ePyomw",
        "outputId": "2dd4eaac-384e-478c-aa02-dd78858cc2cc"
      },
      "execution_count": null,
      "outputs": [
        {
          "output_type": "stream",
          "name": "stdout",
          "text": [
            "['False', 'None', 'True', 'and', 'as', 'assert', 'async', 'await', 'break', 'class', 'continue', 'def', 'del', 'elif', 'else', 'except', 'finally', 'for', 'from', 'global', 'if', 'import', 'in', 'is', 'lambda', 'nonlocal', 'not', 'or', 'pass', 'raise', 'return', 'try', 'while', 'with', 'yield']\n"
          ]
        }
      ]
    },
    {
      "cell_type": "code",
      "source": [
        "#random\n",
        "import random\n",
        "\n",
        "random.randint(1,10)"
      ],
      "metadata": {
        "colab": {
          "base_uri": "https://localhost:8080/"
        },
        "id": "V2zObTu0zD-_",
        "outputId": "47d372a7-511f-4d37-8953-76486a6f02b8"
      },
      "execution_count": null,
      "outputs": [
        {
          "output_type": "execute_result",
          "data": {
            "text/plain": [
              "8"
            ]
          },
          "metadata": {},
          "execution_count": 243
        }
      ]
    },
    {
      "cell_type": "code",
      "source": [
        "#datetime\n",
        "import datetime\n",
        "\n",
        "datetime.datetime.now()"
      ],
      "metadata": {
        "colab": {
          "base_uri": "https://localhost:8080/"
        },
        "id": "54lU0CTVzOn8",
        "outputId": "34d76249-9207-4313-8eb1-037582ea8dcb"
      },
      "execution_count": null,
      "outputs": [
        {
          "output_type": "execute_result",
          "data": {
            "text/plain": [
              "datetime.datetime(2022, 11, 11, 17, 47, 26, 193687)"
            ]
          },
          "metadata": {},
          "execution_count": 244
        }
      ]
    },
    {
      "cell_type": "code",
      "source": [
        "help('modules')"
      ],
      "metadata": {
        "colab": {
          "base_uri": "https://localhost:8080/"
        },
        "id": "XWHqXGUAzmiY",
        "outputId": "208feef1-6b40-43aa-f788-9755eba7f8f6"
      },
      "execution_count": null,
      "outputs": [
        {
          "output_type": "stream",
          "name": "stdout",
          "text": [
            "\n",
            "Please wait a moment while I gather a list of all available modules...\n",
            "\n"
          ]
        },
        {
          "output_type": "stream",
          "name": "stderr",
          "text": [
            "/usr/local/lib/python3.7/dist-packages/IPython/kernel/__init__.py:13: ShimWarning: The `IPython.kernel` package has been deprecated since IPython 4.0.You should import from ipykernel or jupyter_client instead.\n",
            "  \"You should import from ipykernel or jupyter_client instead.\", ShimWarning)\n",
            "/usr/local/lib/python3.7/dist-packages/llvmlite/llvmpy/__init__.py:4: UserWarning: The module `llvmlite.llvmpy` is deprecated and will be removed in the future.\n",
            "  \"The module `llvmlite.llvmpy` is deprecated and will be removed in the \"\n",
            "/usr/local/lib/python3.7/dist-packages/llvmlite/llvmpy/core.py:9: UserWarning: The module `llvmlite.llvmpy.core` is deprecated and will be removed in the future. Equivalent functionality is provided by `llvmlite.ir`.\n",
            "  \"The module `llvmlite.llvmpy.core` is deprecated and will be removed in \"\n",
            "WARNING: AstropyDeprecationWarning: The private astropy._erfa module has been made into its own package, pyerfa, which is a dependency of astropy and can be imported directly using \"import erfa\" [astropy._erfa]\n",
            "WARNING:astropy:AstropyDeprecationWarning: The private astropy._erfa module has been made into its own package, pyerfa, which is a dependency of astropy and can be imported directly using \"import erfa\"\n",
            "/usr/local/lib/python3.7/dist-packages/caffe2/__init__.py:5: UserWarning: Caffe2 support is not fully enabled in this PyTorch build. Please enable Caffe2 by building PyTorch from source with `BUILD_CAFFE2=1` flag.\n",
            "  warnings.warn(\"Caffe2 support is not fully enabled in this PyTorch build. \"\n",
            "/usr/local/lib/python3.7/dist-packages/caffe2/proto/__init__.py:17: UserWarning: Caffe2 support is not enabled in this PyTorch build. Please enable Caffe2 by building PyTorch from source with `BUILD_CAFFE2=1` flag.\n",
            "  warnings.warn('Caffe2 support is not enabled in this PyTorch build. '\n",
            "/usr/local/lib/python3.7/dist-packages/caffe2/proto/__init__.py:17: UserWarning: Caffe2 support is not enabled in this PyTorch build. Please enable Caffe2 by building PyTorch from source with `BUILD_CAFFE2=1` flag.\n",
            "  warnings.warn('Caffe2 support is not enabled in this PyTorch build. '\n",
            "/usr/local/lib/python3.7/dist-packages/caffe2/python/__init__.py:9: UserWarning: Caffe2 support is not enabled in this PyTorch build. Please enable Caffe2 by building PyTorch from source with `BUILD_CAFFE2=1` flag.\n",
            "  warnings.warn('Caffe2 support is not enabled in this PyTorch build. '\n",
            "/usr/local/lib/python3.7/dist-packages/past/types/oldstr.py:5: DeprecationWarning:\n",
            "\n",
            "Using or importing the ABCs from 'collections' instead of from 'collections.abc' is deprecated since Python 3.3,and in 3.9 it will stop working\n",
            "\n",
            "/usr/local/lib/python3.7/dist-packages/intervaltree/intervaltree.py:37: DeprecationWarning:\n",
            "\n",
            "Using or importing the ABCs from 'collections' instead of from 'collections.abc' is deprecated since Python 3.3,and in 3.9 it will stop working\n",
            "\n",
            "/usr/local/lib/python3.7/dist-packages/jupyter_client/ssh/tunnel.py:57: DeprecationWarning:\n",
            "\n",
            "zmq.utils.strtypes is deprecated in pyzmq 23.\n",
            "\n",
            "/usr/local/lib/python3.7/dist-packages/librosa/core/constantq.py:1059: DeprecationWarning:\n",
            "\n",
            "`np.complex` is a deprecated alias for the builtin `complex`. To silence this warning, use `complex` by itself. Doing this will not modify any behavior and is safe. If you specifically wanted the numpy scalar type, use `np.complex128` here.\n",
            "Deprecated in NumPy 1.20; for more details and guidance: https://numpy.org/devdocs/release/1.20.0-notes.html#deprecations\n",
            "\n"
          ]
        },
        {
          "output_type": "stream",
          "name": "stdout",
          "text": [
            "Downloading http://dlib.net/files/shape_predictor_68_face_landmarks.dat.bz2 to /root/mlxtend_data/shape_predictor_68_face_landmarks.dat.bz2\n"
          ]
        },
        {
          "output_type": "stream",
          "name": "stderr",
          "text": [
            "/usr/local/lib/python3.7/dist-packages/nbconvert/filters/strings.py:22: DeprecationWarning:\n",
            "\n",
            "defusedxml.cElementTree is deprecated, import from defusedxml.ElementTree instead.\n",
            "\n",
            "/usr/local/lib/python3.7/dist-packages/nibabel/quaternions.py:31: DeprecationWarning:\n",
            "\n",
            "`np.float` is a deprecated alias for the builtin `float`. To silence this warning, use `float` by itself. Doing this will not modify any behavior and is safe. If you specifically wanted the numpy scalar type, use `np.float64` here.\n",
            "Deprecated in NumPy 1.20; for more details and guidance: https://numpy.org/devdocs/release/1.20.0-notes.html#deprecations\n",
            "\n",
            "/usr/lib/python3.7/pkgutil.py:92: UserWarning:\n",
            "\n",
            "The DICOM readers are highly experimental, unstable, and only work for Siemens time-series at the moment\n",
            "Please use with caution.  We would be grateful for your help in improving them\n",
            "\n",
            "/usr/local/lib/python3.7/dist-packages/nltk/twitter/__init__.py:21: UserWarning:\n",
            "\n",
            "The twython library has not been installed. Some functionality from the twitter package will not be available.\n",
            "\n",
            "/usr/local/lib/python3.7/dist-packages/pip/_vendor/packaging/version.py:130: DeprecationWarning:\n",
            "\n",
            "Creating a LegacyVersion has been deprecated and will be removed in the next major release\n",
            "\n",
            "/usr/local/lib/python3.7/dist-packages/pip/_vendor/packaging/version.py:130: DeprecationWarning:\n",
            "\n",
            "Creating a LegacyVersion has been deprecated and will be removed in the next major release\n",
            "\n",
            "/usr/lib/python3.7/pkgutil.py:92: UserWarning: Viewer requires Qt\n",
            "/usr/local/lib/python3.7/dist-packages/sphinx/websupport/__init__.py:25: RemovedInSphinx20Warning: sphinx.websupport module is now provided as sphinxcontrib-websupport. sphinx.websupport will be removed at Sphinx-2.0. Please use the package instead.\n",
            "/usr/local/lib/python3.7/dist-packages/marshmallow/fields.py:573: RemovedInMarshmallow4Warning: The 'missing' argument to fields is deprecated. Use 'load_default' instead.\n",
            "/usr/local/lib/python3.7/dist-packages/tensorboard/_vendor/html5lib/filters/sanitizer.py:29: DeprecationWarning: html5lib's sanitizer is deprecated; see https://github.com/html5lib/html5lib-python/issues/443 and please let us know if Bleach is unsuitable for your needs\n",
            "/usr/local/lib/python3.7/dist-packages/torch/distributed/_sharded_tensor/__init__.py:10: DeprecationWarning: torch.distributed._sharded_tensor will be deprecated, use torch.distributed._shard.sharded_tensor instead\n",
            "/usr/local/lib/python3.7/dist-packages/torch/distributed/_sharding_spec/__init__.py:10: DeprecationWarning: torch.distributed._sharding_spec will be deprecated, use torch.distributed._shard.sharding_spec instead\n"
          ]
        },
        {
          "output_type": "stream",
          "name": "stdout",
          "text": [
            "No CUDA runtime is found, using CUDA_HOME='/usr/local/cuda'\n",
            "Cython              colorcet            jupyterlab_widgets  reprlib\n",
            "IPython             colorlover          kaggle              requests\n",
            "OpenGL              colorsys            kanren              requests_oauthlib\n",
            "PIL                 community           kapre               resampy\n",
            "ScreenResolution    compileall          keras               resource\n",
            "__future__          concurrent          keras_preprocessing rlcompleter\n",
            "_abc                confection          keyword             rmagic\n",
            "_ast                configparser        kiwisolver          rpy2\n",
            "_asyncio            cons                korean_lunar_calendar rsa\n",
            "_bisect             contextlib          langcodes           runpy\n",
            "_blake2             contextlib2         lib2to3             sched\n",
            "_bootlocale         contextvars         libfuturize         scipy\n",
            "_bz2                convertdate         libpasteurize       scs\n",
            "_cffi_backend       copy                librosa             seaborn\n",
            "_codecs             copyreg             lightgbm            secrets\n",
            "_codecs_cn          crashtest           linecache           select\n",
            "_codecs_hk          crcmod              llvmlite            selectors\n",
            "_codecs_iso2022     crypt               lmdb                send2trash\n",
            "_codecs_jp          csimdjson           locale              setuptools\n",
            "_codecs_kr          csv                 locket              setuptools_git\n",
            "_codecs_tw          ctypes              logging             shapely\n",
            "_collections        cufflinks           lsb_release         shelve\n",
            "_collections_abc    curses              lunarcalendar       shlex\n",
            "_compat_pickle      cv2                 lxml                shutil\n",
            "_compression        cvxopt              lzma                signal\n",
            "_contextvars        cvxpy               macpath             simdjson\n",
            "_crypt              cycler              mailbox             site\n",
            "_csv                cymem               mailcap             sitecustomize\n",
            "_ctypes             cython              markdown            six\n",
            "_ctypes_test        cythonmagic         markupsafe          skimage\n",
            "_curses             daft                marshal             sklearn\n",
            "_curses_panel       dask                marshmallow         sklearn_pandas\n",
            "_cvxcore            dataclasses         math                slugify\n",
            "_datetime           datascience         matplotlib          smart_open\n",
            "_dbm                datetime            matplotlib_venn     smtpd\n",
            "_decimal            dateutil            mimetypes           smtplib\n",
            "_distutils_hack     db_dtypes           missingno           sndhdr\n",
            "_dlib_pybind11      dbm                 mistune             snowballstemmer\n",
            "_dummy_thread       dbus                mizani              socket\n",
            "_ecos               debugpy             mlxtend             socketserver\n",
            "_elementtree        decimal             mmap                socks\n",
            "_functools          decorator           modulefinder        sockshandler\n",
            "_hashlib            defusedxml          more_itertools      softwareproperties\n",
            "_heapq              descartes           moviepy             sortedcontainers\n",
            "_imp                difflib             mpmath              soundfile\n",
            "_io                 dill                msgpack             spacy\n",
            "_json               dis                 multidict           spacy_legacy\n",
            "_locale             distributed         multipledispatch    spacy_loggers\n",
            "_lsprof             distutils           multiprocessing     sphinx\n",
            "_lzma               dlib                multitasking        spwd\n",
            "_markupbase         dns                 murmurhash          sql\n",
            "_md5                docs                music21             sqlalchemy\n",
            "_multibytecodec     doctest             natsort             sqlite3\n",
            "_multiprocessing    docutils            nbconvert           sqlparse\n",
            "_opcode             dopamine            nbformat            sre_compile\n",
            "_operator           dot_parser          netCDF4             sre_constants\n",
            "_osx_support        dummy_threading     netrc               sre_parse\n",
            "_pickle             easydict            networkx            srsly\n",
            "_plotly_future_     ecos                nibabel             ssl\n",
            "_plotly_utils       editdistance        nis                 stan\n",
            "_posixsubprocess    ee                  nisext              stat\n",
            "_py_abc             email               nltk                statistics\n",
            "_pydecimal          en_core_web_sm      nntplib             statsmodels\n",
            "_pyio               encodings           notebook            storemagic\n",
            "_pyrsistent_version entrypoints         ntpath              string\n",
            "_pytest             enum                nturl2path          stringprep\n",
            "_queue              ephem               numba               struct\n",
            "_random             erfa                numbergen           subprocess\n",
            "_rinterface_cffi_abi errno               numbers             sunau\n",
            "_rinterface_cffi_api et_xmlfile          numexpr             symbol\n",
            "_scs_direct         etils               numpy               sympy\n",
            "_scs_indirect       etuples             oauth2client        sympyprinting\n",
            "_sha1               fa2                 oauthlib            symtable\n",
            "_sha256             fastai              ogr                 sys\n",
            "_sha3               fastcore            okgrade             sysconfig\n",
            "_sha512             fastdownload        opcode              syslog\n",
            "_signal             fastdtw             openpyxl            tables\n",
            "_sitebuiltins       fastjsonschema      operator            tabnanny\n",
            "_socket             fastprogress        opt_einsum          tabulate\n",
            "_soundfile          fastrlock           optparse            tarfile\n",
            "_sqlite3            faulthandler        os                  tblib\n",
            "_sre                fcntl               osgeo               telnetlib\n",
            "_ssl                feather             osqp                tempfile\n",
            "_stat               filecmp             osqppurepy          tenacity\n",
            "_string             fileinput           osr                 tensorboard\n",
            "_strptime           filelock            ossaudiodev         tensorboard_data_server\n",
            "_struct             firebase_admin      packaging           tensorboard_plugin_wit\n",
            "_symtable           fix_yahoo_finance   palettable          tensorflow\n",
            "_sysconfigdata_m_linux_x86_64-linux-gnu flask               pandas              tensorflow_datasets\n",
            "_sysconfigdata_m_x86_64-linux-gnu flatbuffers         pandas_datareader   tensorflow_estimator\n",
            "_testbuffer         fnmatch             pandas_gbq          tensorflow_gcs_config\n",
            "_testcapi           folium              pandas_profiling    tensorflow_hub\n",
            "_testimportmultiple formatter           pandocfilters       tensorflow_io_gcs_filesystem\n",
            "_testmultiphase     fractions           panel               tensorflow_metadata\n",
            "_thread             frozenlist          param               tensorflow_probability\n",
            "_threading_local    fsspec              parser              termcolor\n",
            "_tkinter            ftplib              parso               terminado\n",
            "_tracemalloc        functools           partd               termios\n",
            "_warnings           future              past                test\n",
            "_weakref            gast                pasta               testpath\n",
            "_weakrefset         gc                  pastel              tests\n",
            "_xxtestfuzz         gdal                pathlib             text_unidecode\n",
            "_yaml               gdalconst           pathy               textblob\n",
            "abc                 gdalnumeric         patsy               textwrap\n",
            "absl                gdown               pdb                 thinc\n",
            "aeppl               genericpath         pep517              this\n",
            "aesara              gensim              pexpect             threading\n",
            "aifc                geographiclib       pickle              threadpoolctl\n",
            "aiohttp             geopy               pickleshare         tifffile\n",
            "aiosignal           getopt              pickletools         time\n",
            "alabaster           getpass             pip                 timeit\n",
            "albumentations      gettext             pipes               tkinter\n",
            "altair              gi                  piptools            tlz\n",
            "antigravity         gin                 pkg_resources       token\n",
            "apiclient           glob                pkgutil             tokenize\n",
            "appdirs             glob2               platform            toml\n",
            "apt                 gnm                 plistlib            tomli\n",
            "apt_inst            google_auth_httplib2 plotly              toolz\n",
            "apt_pkg             google_auth_oauthlib plotlywidget        torch\n",
            "aptsources          google_crc32c       plotnine            torchaudio\n",
            "argparse            google_drive_downloader pluggy              torchgen\n",
            "array               googleapiclient     pooch               torchsummary\n",
            "arviz               googlesearch        poplib              torchtext\n",
            "ast                 graphviz            portpicker          torchvision\n",
            "astor               greenlet            posix               tornado\n",
            "astropy             gridfs              posixpath           tqdm\n",
            "astunparse          grp                 pprint              trace\n",
            "async_timeout       grpc                prefetch_generator  traceback\n",
            "asynchat            grpc_status         preshed             tracemalloc\n",
            "asyncio             gspread             prettytable         traitlets\n",
            "asyncore            gspread_dataframe   profile             tree\n",
            "asynctest           gym                 progressbar         tty\n",
            "atari_py            gym_notices         prometheus_client   turtle\n",
            "atexit              gzip                promise             tweepy\n",
            "atomicwrites        h5py                prompt_toolkit      typeguard\n",
            "attr                hashlib             prophet             typer\n",
            "attrs               heapdict            proto               types\n",
            "audioop             heapq               pstats              typing\n",
            "audioread           hijri_converter     psutil              typing_extensions\n",
            "autograd            hmac                psycopg2            tzlocal\n",
            "autoreload          holidays            pty                 unicodedata\n",
            "babel               holoviews           ptyprocess          unification\n",
            "backcall            html                pwd                 unittest\n",
            "base64              html5lib            py                  uritemplate\n",
            "bdb                 http                py_compile          urllib\n",
            "bin                 httpimport          pyarrow             urllib3\n",
            "binascii            httplib2            pyasn1              uu\n",
            "binhex              httpstan            pyasn1_modules      uuid\n",
            "bisect              humanize            pyclbr              vega_datasets\n",
            "bleach              hyperopt            pycocotools         venv\n",
            "blis                idna                pycparser           vis\n",
            "bokeh               imageio             pyct                warnings\n",
            "boost               imagesize           pydantic            wasabi\n",
            "branca              imaplib             pydata_google_auth  wave\n",
            "bs4                 imblearn            pydoc               wcwidth\n",
            "bson                imgaug              pydoc_data          weakref\n",
            "builtins            imghdr              pydot               webargs\n",
            "bz2                 imp                 pydot_ng            webbrowser\n",
            "cProfile            importlib           pydotplus           webencodings\n",
            "cachecontrol        importlib_metadata  pydrive             werkzeug\n",
            "cached_property     importlib_resources pyemd               wheel\n",
            "cachetools          imutils             pyexpat             widgetsnbextension\n",
            "caffe2              inflect             pygments            wordcloud\n",
            "calendar            inspect             pygtkcompat         wrapt\n",
            "catalogue           intervaltree        pylab               wsgiref\n",
            "certifi             io                  pylev               xarray\n",
            "cffi                ipaddress           pymc                xarray_einstats\n",
            "cftime              ipykernel           pymeeus             xdrlib\n",
            "cgi                 ipykernel_launcher  pymongo             xgboost\n",
            "cgitb               ipython_genutils    pymystem3           xkit\n",
            "chardet             ipywidgets          pyparsing           xlrd\n",
            "charset_normalizer  isympy              pyrsistent          xlwt\n",
            "chunk               itertools           pysndfile           xml\n",
            "clang               itsdangerous        pytest              xmlrpc\n",
            "click               jax                 python_utils        xxlimited\n",
            "client              jaxlib              pytz                xxsubtype\n",
            "clikit              jieba               pyviz_comms         yaml\n",
            "cloudpickle         jinja2              pywt                yarl\n",
            "cmake               joblib              pyximport           yellowbrick\n",
            "cmath               jpeg4py             qdldl               zict\n",
            "cmd                 json                qudida              zipapp\n",
            "cmdstanpy           jsonschema          queue               zipfile\n",
            "code                jupyter             quopri              zipimport\n",
            "codecs              jupyter_client      random              zipp\n",
            "codeop              jupyter_console     re                  zlib\n",
            "colab               jupyter_core        readline            zmq\n",
            "collections         jupyterlab_plotly   regex               \n",
            "\n",
            "Enter any module name to get more help.  Or, type \"modules spam\" to search\n",
            "for modules whose name or summary contain the string \"spam\".\n",
            "\n"
          ]
        },
        {
          "output_type": "stream",
          "name": "stderr",
          "text": [
            "/usr/lib/python3.7/pkgutil.py:107: VisibleDeprecationWarning: zmq.eventloop.minitornado is deprecated in pyzmq 14.0 and will be removed.\n",
            "    Install tornado itself to use zmq with the tornado IOLoop.\n",
            "    \n"
          ]
        }
      ]
    },
    {
      "cell_type": "markdown",
      "source": [
        "#Loops\n",
        "\n",
        "\n",
        "\n",
        "*   Need of loop\n",
        "*   FOR loop\n",
        "*   WHILE loop\n",
        "\n",
        "\n",
        "\n"
      ],
      "metadata": {
        "id": "M2dIC4_YzfJp"
      }
    },
    {
      "cell_type": "code",
      "source": [
        "#need of loop\n",
        "#when we have to do same task multiple times then we can use loops so that our programs does that multiple times"
      ],
      "metadata": {
        "id": "MCgtxXtozbmV"
      },
      "execution_count": null,
      "outputs": []
    },
    {
      "cell_type": "code",
      "source": [
        "number = int(input(\"Enter the number\"))\n",
        "i = 1\n",
        "while i < 11:\n",
        "  print(number, '*', i, '=',number *i)\n",
        "  i += 1"
      ],
      "metadata": {
        "colab": {
          "base_uri": "https://localhost:8080/"
        },
        "id": "741079Z00iGU",
        "outputId": "e5841e1f-e876-4a7a-fe42-5b879e97d9c0"
      },
      "execution_count": null,
      "outputs": [
        {
          "output_type": "stream",
          "name": "stdout",
          "text": [
            "Enter the number27\n",
            "27 * 1 = 27\n",
            "27 * 2 = 54\n",
            "27 * 3 = 81\n",
            "27 * 4 = 108\n",
            "27 * 5 = 135\n",
            "27 * 6 = 162\n",
            "27 * 7 = 189\n",
            "27 * 8 = 216\n",
            "27 * 9 = 243\n",
            "27 * 10 = 270\n"
          ]
        }
      ]
    },
    {
      "cell_type": "code",
      "source": [
        "# https://pythontutor.com/render.html#mode=display"
      ],
      "metadata": {
        "id": "OwmnrPTc1LWC"
      },
      "execution_count": null,
      "outputs": []
    },
    {
      "cell_type": "markdown",
      "source": [
        "# While loop with else"
      ],
      "metadata": {
        "id": "OzYMCIK-1s41"
      }
    },
    {
      "cell_type": "code",
      "source": [
        "number = int(input(\"Enter the number\"))\n",
        "i = 1\n",
        "while i < 11:\n",
        "  print(number, '*', i, '=',number *i)\n",
        "  i += 1\n",
        "\n",
        "else:\n",
        "  print(\"*** Table Ends ***\")  "
      ],
      "metadata": {
        "colab": {
          "base_uri": "https://localhost:8080/"
        },
        "id": "NKcaiLha1WzN",
        "outputId": "35bc72e5-9352-4a5d-980f-27c106d19784"
      },
      "execution_count": null,
      "outputs": [
        {
          "output_type": "stream",
          "name": "stdout",
          "text": [
            "Enter the number17\n",
            "17 * 1 = 17\n",
            "17 * 2 = 34\n",
            "17 * 3 = 51\n",
            "17 * 4 = 68\n",
            "17 * 5 = 85\n",
            "17 * 6 = 102\n",
            "17 * 7 = 119\n",
            "17 * 8 = 136\n",
            "17 * 9 = 153\n",
            "17 * 10 = 170\n",
            "*** Table Ends ***\n"
          ]
        }
      ]
    },
    {
      "cell_type": "markdown",
      "source": [
        "# Guessing Game"
      ],
      "metadata": {
        "id": "dpkGLIE92HHy"
      }
    },
    {
      "cell_type": "code",
      "source": [
        "#generate rand int b/w 1 to 100\n",
        "import random\n",
        "\n",
        "jackpot = random.randint(1,10)\n",
        "guess = int(input(\"Guess Karo \"))\n",
        "attempt = 1\n",
        "\n",
        "while guess != jackpot:\n",
        "  if guess < jackpot:\n",
        "    print('Guess Higher')\n",
        "\n",
        "  else:\n",
        "    print('Guess Lower')\n",
        "    \n",
        "\n",
        "  guess = int(input(\"Guess Again \"))\n",
        "  attempt += 1\n",
        "\n",
        "else:\n",
        "  print(\"You won in \",attempt,\"Attempts\")  "
      ],
      "metadata": {
        "colab": {
          "base_uri": "https://localhost:8080/"
        },
        "id": "Twa5v0Ql2JAD",
        "outputId": "71206bff-9d43-4e9d-a82c-bd4bde515cbc"
      },
      "execution_count": null,
      "outputs": [
        {
          "output_type": "stream",
          "name": "stdout",
          "text": [
            "Guess Karo 12\n",
            "Guess Lower\n",
            "Guess Again 19\n",
            "Guess Lower\n",
            "Guess Again 1\n",
            "Guess Higher\n",
            "Guess Again 2\n",
            "Guess Higher\n",
            "Guess Again 3\n",
            "You won in  5 Attempts\n"
          ]
        }
      ]
    },
    {
      "cell_type": "markdown",
      "source": [
        "#FOR loops"
      ],
      "metadata": {
        "id": "KeSD7_T55vEc"
      }
    },
    {
      "cell_type": "code",
      "source": [
        "for i in range(1,10):\n",
        "  print(i)"
      ],
      "metadata": {
        "colab": {
          "base_uri": "https://localhost:8080/"
        },
        "id": "yTDM3ljs2Vhm",
        "outputId": "0dcb8fb2-605e-4e63-bd87-fb245025873a"
      },
      "execution_count": null,
      "outputs": [
        {
          "output_type": "stream",
          "name": "stdout",
          "text": [
            "1\n",
            "2\n",
            "3\n",
            "4\n",
            "5\n",
            "6\n",
            "7\n",
            "8\n",
            "9\n"
          ]
        }
      ]
    },
    {
      "cell_type": "code",
      "source": [
        "#with jump of 2\n",
        "#step size\n",
        "\n",
        "for i in range(1,10,2):\n",
        "  print(i)"
      ],
      "metadata": {
        "colab": {
          "base_uri": "https://localhost:8080/"
        },
        "id": "ZJOrueT14zKA",
        "outputId": "ab054e17-1c44-4731-c203-290460d1b698"
      },
      "execution_count": null,
      "outputs": [
        {
          "output_type": "stream",
          "name": "stdout",
          "text": [
            "1\n",
            "3\n",
            "5\n",
            "7\n",
            "9\n"
          ]
        }
      ]
    },
    {
      "cell_type": "code",
      "source": [
        "for i in range(10,0,-1):\n",
        "  print(i)"
      ],
      "metadata": {
        "colab": {
          "base_uri": "https://localhost:8080/"
        },
        "id": "w47zBMao6RAP",
        "outputId": "55b9242f-f332-4f2e-efb5-d5e0be824921"
      },
      "execution_count": null,
      "outputs": [
        {
          "output_type": "stream",
          "name": "stdout",
          "text": [
            "10\n",
            "9\n",
            "8\n",
            "7\n",
            "6\n",
            "5\n",
            "4\n",
            "3\n",
            "2\n",
            "1\n"
          ]
        }
      ]
    },
    {
      "cell_type": "code",
      "source": [
        "for i in 'delhi':\n",
        "  print(i)"
      ],
      "metadata": {
        "colab": {
          "base_uri": "https://localhost:8080/"
        },
        "id": "VObt7rRo6ebc",
        "outputId": "e1808564-36a6-4e2c-a2b3-d40c9f95aa08"
      },
      "execution_count": null,
      "outputs": [
        {
          "output_type": "stream",
          "name": "stdout",
          "text": [
            "d\n",
            "e\n",
            "l\n",
            "h\n",
            "i\n"
          ]
        }
      ]
    },
    {
      "cell_type": "markdown",
      "source": [
        "# FOR loop exercise\n",
        "current population of town is 10000, population of town is increasing at 10% per yr, find population at the end of each 10 yr"
      ],
      "metadata": {
        "id": "8T9HkiB968sH"
      }
    },
    {
      "cell_type": "code",
      "source": [
        "c_pop = 10000\n",
        "increase_rate = '10%'\n",
        "\n",
        "for i in range(10,0,-1):\n",
        "  print(i,c_pop)\n",
        "  c_pop = round(c_pop/1.1)"
      ],
      "metadata": {
        "colab": {
          "base_uri": "https://localhost:8080/"
        },
        "id": "03RzKOmQ6uob",
        "outputId": "9bdcb5b5-ef36-4dc4-ae45-7029c9a0408d"
      },
      "execution_count": null,
      "outputs": [
        {
          "output_type": "stream",
          "name": "stdout",
          "text": [
            "10 10000\n",
            "9 9091\n",
            "8 8265\n",
            "7 7514\n",
            "6 6831\n",
            "5 6210\n",
            "4 5645\n",
            "3 5132\n",
            "2 4665\n",
            "1 4241\n"
          ]
        }
      ]
    },
    {
      "cell_type": "markdown",
      "source": [
        "#Sequence sum"
      ],
      "metadata": {
        "id": "j1SHxHrDIPnw"
      }
    },
    {
      "cell_type": "code",
      "source": [
        "n = int(input(\"Enter a Number\"))\n",
        "\n",
        "result = 0\n",
        "fact = 1\n",
        "\n",
        "for i in range(1,n+1):\n",
        "  fact = fact*i\n",
        "  result = result + i/fact\n",
        "\n",
        "print(result)"
      ],
      "metadata": {
        "colab": {
          "base_uri": "https://localhost:8080/"
        },
        "id": "egpaesLRHbva",
        "outputId": "617f1b9f-7312-4b30-84dd-e37efab5d302"
      },
      "execution_count": null,
      "outputs": [
        {
          "output_type": "stream",
          "name": "stdout",
          "text": [
            "Enter a Number3\n",
            "2.5\n"
          ]
        }
      ]
    },
    {
      "cell_type": "markdown",
      "source": [
        "#Nested Loops"
      ],
      "metadata": {
        "id": "clt9qm5oLUMi"
      }
    },
    {
      "cell_type": "code",
      "source": [
        "for j in range(1,4):\n",
        "  for i in range(1,4):\n",
        "    for k in range(1,4):\n",
        "      print(j,i,k)"
      ],
      "metadata": {
        "colab": {
          "base_uri": "https://localhost:8080/"
        },
        "id": "u0Tz-i3ELXUR",
        "outputId": "e7783a3d-f6b3-4658-dfb6-9d43ecf0ad1f"
      },
      "execution_count": null,
      "outputs": [
        {
          "output_type": "stream",
          "name": "stdout",
          "text": [
            "1 1 1\n",
            "1 1 2\n",
            "1 1 3\n",
            "1 2 1\n",
            "1 2 2\n",
            "1 2 3\n",
            "1 3 1\n",
            "1 3 2\n",
            "1 3 3\n",
            "2 1 1\n",
            "2 1 2\n",
            "2 1 3\n",
            "2 2 1\n",
            "2 2 2\n",
            "2 2 3\n",
            "2 3 1\n",
            "2 3 2\n",
            "2 3 3\n",
            "3 1 1\n",
            "3 1 2\n",
            "3 1 3\n",
            "3 2 1\n",
            "3 2 2\n",
            "3 2 3\n",
            "3 3 1\n",
            "3 3 2\n",
            "3 3 3\n"
          ]
        }
      ]
    },
    {
      "cell_type": "markdown",
      "source": [
        "Pattern 1"
      ],
      "metadata": {
        "id": "1Xk_WlVAcBWC"
      }
    },
    {
      "cell_type": "code",
      "source": [
        "rows = int(input(\"Enter no of rows\"))\n",
        "\n",
        "for i in range(rows+1):\n",
        "  print(\"*\"*i)"
      ],
      "metadata": {
        "colab": {
          "base_uri": "https://localhost:8080/"
        },
        "id": "GtcXy3s4cERa",
        "outputId": "78d2a696-c359-4707-b4ae-888b904321bb"
      },
      "execution_count": null,
      "outputs": [
        {
          "output_type": "stream",
          "name": "stdout",
          "text": [
            "Enter no of rows5\n",
            "\n",
            "*\n",
            "**\n",
            "***\n",
            "****\n",
            "*****\n"
          ]
        }
      ]
    },
    {
      "cell_type": "markdown",
      "source": [
        "Pattern 2"
      ],
      "metadata": {
        "id": "EIVdBzEhe7PX"
      }
    },
    {
      "cell_type": "code",
      "source": [
        "rows = int(input(\"Enter Row Numbers\"))\n",
        "for i in range(1,rows+1):\n",
        "  for j in range(1,i+1):\n",
        "    print(j,end='')\n",
        "  for k in range(i-1,0,-1):\n",
        "    print(k,end='')\n",
        "\n",
        "  print()"
      ],
      "metadata": {
        "colab": {
          "base_uri": "https://localhost:8080/"
        },
        "id": "j1jnRjqLezg8",
        "outputId": "ad610fa9-ef51-40c6-9673-cdf91917b7d6"
      },
      "execution_count": null,
      "outputs": [
        {
          "output_type": "stream",
          "name": "stdout",
          "text": [
            "Enter Row Numbers4\n",
            "1\n",
            "121\n",
            "12321\n",
            "1234321\n"
          ]
        }
      ]
    },
    {
      "cell_type": "markdown",
      "source": [
        "#Loop control sytem\n",
        "\n",
        "\n",
        "*   Break\n",
        "*   Continue\n",
        "*   Pass\n",
        "\n",
        "\n",
        "\n"
      ],
      "metadata": {
        "id": "2ip-JEobhjOA"
      }
    },
    {
      "cell_type": "code",
      "source": [
        "for i in range(1,6):\n",
        "  if i == 5:\n",
        "    break\n",
        "  print(i)"
      ],
      "metadata": {
        "colab": {
          "base_uri": "https://localhost:8080/"
        },
        "id": "upueR39uhmSU",
        "outputId": "947c254c-98e8-4768-bd08-4c590a50abe3"
      },
      "execution_count": null,
      "outputs": [
        {
          "output_type": "stream",
          "name": "stdout",
          "text": [
            "1\n",
            "2\n",
            "3\n",
            "4\n"
          ]
        }
      ]
    },
    {
      "cell_type": "code",
      "source": [
        "#given a range, print all prime numbers in that range\n",
        "#which can be divided by itself or 1\n",
        "\n",
        "lower = int(input(\"Enter starting range\"))\n",
        "upper = int(input(\"Enter end range\"))\n",
        "\n",
        "for i in range(lower,upper+1):\n",
        "  for j in range(2,i):\n",
        "    if i%j == 0:\n",
        "      break\n",
        "\n",
        "  else:\n",
        "    print(i)      "
      ],
      "metadata": {
        "colab": {
          "base_uri": "https://localhost:8080/"
        },
        "id": "OkAlNRoxiGxT",
        "outputId": "817dd16e-2ecf-4f87-d98a-a28bd643d538"
      },
      "execution_count": null,
      "outputs": [
        {
          "output_type": "stream",
          "name": "stdout",
          "text": [
            "Enter starting range10\n",
            "Enter end range100\n",
            "11\n",
            "13\n",
            "17\n",
            "19\n",
            "23\n",
            "29\n",
            "31\n",
            "37\n",
            "41\n",
            "43\n",
            "47\n",
            "53\n",
            "59\n",
            "61\n",
            "67\n",
            "71\n",
            "73\n",
            "79\n",
            "83\n",
            "89\n",
            "97\n"
          ]
        }
      ]
    },
    {
      "cell_type": "code",
      "source": [
        "#continue statement\n",
        "#it will skip out of loop & slip all the codes after that\n",
        "\n",
        "for i in range(5):\n",
        "  if i == 3:\n",
        "    continue\n",
        "  print(i)"
      ],
      "metadata": {
        "colab": {
          "base_uri": "https://localhost:8080/"
        },
        "id": "WEdOXyAZj3P7",
        "outputId": "c8a98e4b-eb1e-4b00-c518-a6194aec2f7a"
      },
      "execution_count": null,
      "outputs": [
        {
          "output_type": "stream",
          "name": "stdout",
          "text": [
            "0\n",
            "1\n",
            "2\n",
            "4\n"
          ]
        }
      ]
    },
    {
      "cell_type": "code",
      "source": [
        "#pass statement will just do nothing & not throw any error of \"no code written\""
      ],
      "metadata": {
        "id": "YWXjW6HPkkK4"
      },
      "execution_count": null,
      "outputs": []
    },
    {
      "cell_type": "markdown",
      "source": [
        "#Strings\n",
        "\n",
        "\n",
        "\n",
        "1.   Creating strings\n",
        "2.   Accessing strings\n",
        "3.   Adding chars to strings\n",
        "4.   Editing strings\n",
        "5.   Deleting strings\n",
        "6.   Operations in strings\n",
        "7.   String functions\n",
        "\n"
      ],
      "metadata": {
        "id": "nA1sTq9uG0bG"
      }
    },
    {
      "cell_type": "code",
      "source": [
        "#strings are texts\n",
        "#collection of unicode characters\n",
        "\n",
        "#initially when computers started they were able to show ASCII charcters which is 8bit but as it grows\n",
        "#people wanted to write more characters, which is why UNICODE characters came into picture\n",
        "#which support 16bit characters"
      ],
      "metadata": {
        "id": "1Dy5JSOQGzQz"
      },
      "execution_count": null,
      "outputs": []
    },
    {
      "cell_type": "markdown",
      "source": [
        "#creating strings"
      ],
      "metadata": {
        "id": "j4K_vropmZui"
      }
    },
    {
      "cell_type": "code",
      "source": [
        "name = 'Prashant'\n",
        "print(name)\n",
        "print(type(name))\n",
        "\n",
        "#it can be written under '', \"\", \"\"\" \"\"\"\n",
        "\n",
        "name = \"It's Prashant Jain\"\n",
        "print(name)\n",
        "\n",
        "para = \"\"\" Lorem Ipsum is simply dummy text of the printing and typesetting industry.\n",
        "Lorem Ipsum has been the industry's standard dummy text ever since the 1500s,\n",
        "when an unknown printer took a galley of type and scrambled it to make a type specimen book. It has survived not only five centuries, but also the leap into electronic typesetting, remaining essentially unchanged. It was popularised in the 1960s with the release of Letraset sheets containing Lorem Ipsum passages,\n",
        "and more recently with desktop publishing software like Aldus PageMaker including versions of Lorem Ipsum.\"\"\"\n",
        "\n",
        "print(para)"
      ],
      "metadata": {
        "colab": {
          "base_uri": "https://localhost:8080/"
        },
        "id": "qHJkzFZQmbOP",
        "outputId": "a3cba41b-51a0-4472-baf6-f7ffdd646629"
      },
      "execution_count": null,
      "outputs": [
        {
          "output_type": "stream",
          "name": "stdout",
          "text": [
            "Prashant\n",
            "<class 'str'>\n",
            "It's Prashant Jain\n",
            " Lorem Ipsum is simply dummy text of the printing and typesetting industry.\n",
            "Lorem Ipsum has been the industry's standard dummy text ever since the 1500s,\n",
            "when an unknown printer took a galley of type and scrambled it to make a type specimen book. It has survived not only five centuries, but also the leap into electronic typesetting, remaining essentially unchanged. It was popularised in the 1960s with the release of Letraset sheets containing Lorem Ipsum passages,\n",
            "and more recently with desktop publishing software like Aldus PageMaker including versions of Lorem Ipsum.\n"
          ]
        }
      ]
    },
    {
      "cell_type": "markdown",
      "source": [
        "Accessing strings"
      ],
      "metadata": {
        "id": "vcMic8Kbnlon"
      }
    },
    {
      "cell_type": "code",
      "source": [
        "#indexing & slicing\n",
        "\n",
        "#positive indexing\n",
        "name = 'was'\n",
        "print(name[0])\n",
        "print(name[1])\n",
        "print(name[2])\n",
        "\n",
        "\n",
        "#negative indexing\n",
        "name = 'was'\n",
        "print(name[-3])\n",
        "print(name[-2])\n",
        "print(name[-1])\n"
      ],
      "metadata": {
        "colab": {
          "base_uri": "https://localhost:8080/"
        },
        "id": "7Ui5jm5Tnir6",
        "outputId": "073287f9-0501-41c8-94e5-8bb59e4331e3"
      },
      "execution_count": null,
      "outputs": [
        {
          "output_type": "stream",
          "name": "stdout",
          "text": [
            "w\n",
            "a\n",
            "s\n",
            "w\n",
            "a\n",
            "s\n"
          ]
        }
      ]
    },
    {
      "cell_type": "code",
      "source": [
        "s = 'hello world'\n",
        "\n",
        "print(s[0:5])\n",
        "print(s[1:4])\n",
        "\n",
        "#step size\n",
        "print(s[0:5:2])\n",
        "print(s[0:5:3])"
      ],
      "metadata": {
        "colab": {
          "base_uri": "https://localhost:8080/"
        },
        "id": "1PEjXIKaoAbe",
        "outputId": "8278fe73-88b0-4157-efac-0e74cd220ef5"
      },
      "execution_count": null,
      "outputs": [
        {
          "output_type": "stream",
          "name": "stdout",
          "text": [
            "hello\n",
            "ell\n",
            "hlo\n",
            "hl\n"
          ]
        }
      ]
    },
    {
      "cell_type": "code",
      "source": [
        "print(s[::-1])"
      ],
      "metadata": {
        "colab": {
          "base_uri": "https://localhost:8080/"
        },
        "id": "1bbhlPAfu5SW",
        "outputId": "5812cb32-0ab3-484d-ad57-06cafb585f02"
      },
      "execution_count": null,
      "outputs": [
        {
          "output_type": "stream",
          "name": "stdout",
          "text": [
            "dlrow olleh\n"
          ]
        }
      ]
    },
    {
      "cell_type": "code",
      "source": [
        "print(s[-5:])"
      ],
      "metadata": {
        "colab": {
          "base_uri": "https://localhost:8080/"
        },
        "id": "KV5BHLrd3cnn",
        "outputId": "ee4d987e-b16f-4e7d-f3ca-63d15a43e48c"
      },
      "execution_count": null,
      "outputs": [
        {
          "output_type": "stream",
          "name": "stdout",
          "text": [
            "world\n"
          ]
        }
      ]
    },
    {
      "cell_type": "code",
      "source": [
        "print(s[-1:-6:-1])"
      ],
      "metadata": {
        "colab": {
          "base_uri": "https://localhost:8080/"
        },
        "id": "zIV-iP5935KF",
        "outputId": "499b45a1-784d-4b93-8a03-df4e164c285e"
      },
      "execution_count": null,
      "outputs": [
        {
          "output_type": "stream",
          "name": "stdout",
          "text": [
            "dlrow\n"
          ]
        }
      ]
    },
    {
      "cell_type": "markdown",
      "source": [
        "Editing & Deleting"
      ],
      "metadata": {
        "id": "eNkehe7Z4Bl0"
      }
    },
    {
      "cell_type": "code",
      "source": [
        "#python strings are immutable\n",
        "\n",
        "s = 'hello'\n",
        "# s[0] = 'H'"
      ],
      "metadata": {
        "id": "MnFXz-a54BO-"
      },
      "execution_count": null,
      "outputs": []
    },
    {
      "cell_type": "code",
      "source": [
        "s = 'hello'\n",
        "del(s)\n",
        "# print(s)"
      ],
      "metadata": {
        "id": "9jJgF8iJ4iQB"
      },
      "execution_count": null,
      "outputs": []
    },
    {
      "cell_type": "code",
      "source": [
        "s = 'hello world'\n",
        "# del s[-1:-5:2]      #porting change nt permitted bcoz str are immutable\n",
        "# print(s)"
      ],
      "metadata": {
        "id": "qkMfOYtM4nso"
      },
      "execution_count": null,
      "outputs": []
    },
    {
      "cell_type": "markdown",
      "source": [
        "Operations on strings\n",
        "\n",
        "1. arithmetic\n",
        "2. relational\n",
        "3. logical\n",
        "4. loops\n",
        "5. membership"
      ],
      "metadata": {
        "id": "ty3HTanm5Cai"
      }
    },
    {
      "cell_type": "code",
      "source": [
        "print(\"Delhi\" + \"Mumbai\")\n",
        "print(\"*\" * 15)"
      ],
      "metadata": {
        "colab": {
          "base_uri": "https://localhost:8080/"
        },
        "id": "93RJskYC5muI",
        "outputId": "8bfb3c32-7402-4610-c1ce-a93d8ec014d6"
      },
      "execution_count": null,
      "outputs": [
        {
          "output_type": "stream",
          "name": "stdout",
          "text": [
            "DelhiMumbai\n",
            "***************\n"
          ]
        }
      ]
    },
    {
      "cell_type": "code",
      "source": [
        "print(\"Delhi\" == \"Mumbai\")\n",
        "print(\"Delhi\" != \"Mumbai\")\n",
        "\n",
        "print(\"Delhi\" > \"Agra\")         #logic: comparing  strings lexiographically like alphabetically as per dictionary\n",
        "print(\"Delhi\" > \"Lucknow\")"
      ],
      "metadata": {
        "colab": {
          "base_uri": "https://localhost:8080/"
        },
        "id": "WOIyIQC_6Tyr",
        "outputId": "e36b7c57-d503-4e32-eccf-28d0a229c1b4"
      },
      "execution_count": null,
      "outputs": [
        {
          "output_type": "stream",
          "name": "stdout",
          "text": [
            "False\n",
            "True\n",
            "True\n",
            "False\n"
          ]
        }
      ]
    },
    {
      "cell_type": "markdown",
      "source": [
        "logical"
      ],
      "metadata": {
        "id": "xSvtWT7J7cB_"
      }
    },
    {
      "cell_type": "code",
      "source": [
        "print(\"hello\" and \"world\")        #second word aane k baad surity aa rhi hai\n",
        "print(\"hello\" or \"world\")         #first waale ke aate hi surity aa gyi\n",
        "\n",
        "print(\"\" and \"abc\")\n",
        "print(\"\" or \"abc\")"
      ],
      "metadata": {
        "colab": {
          "base_uri": "https://localhost:8080/"
        },
        "id": "hH2XZUHM7a4k",
        "outputId": "aa8223cc-1542-4266-dea5-60b0ddee23fc"
      },
      "execution_count": null,
      "outputs": [
        {
          "output_type": "stream",
          "name": "stdout",
          "text": [
            "world\n",
            "hello\n",
            "\n",
            "abc\n"
          ]
        }
      ]
    },
    {
      "cell_type": "markdown",
      "source": [
        "Loops"
      ],
      "metadata": {
        "id": "vSaOCjAP8Naa"
      }
    },
    {
      "cell_type": "code",
      "source": [
        "for i in \"Hello\":\n",
        "  print(i)"
      ],
      "metadata": {
        "colab": {
          "base_uri": "https://localhost:8080/"
        },
        "id": "vGtjo3YW8OiI",
        "outputId": "b89fd3cb-00a8-400b-e3a0-e78625200996"
      },
      "execution_count": null,
      "outputs": [
        {
          "output_type": "stream",
          "name": "stdout",
          "text": [
            "H\n",
            "e\n",
            "l\n",
            "l\n",
            "o\n"
          ]
        }
      ]
    },
    {
      "cell_type": "code",
      "source": [
        "for i in \"delhi\":\n",
        "  print(\"Pune\")"
      ],
      "metadata": {
        "colab": {
          "base_uri": "https://localhost:8080/"
        },
        "id": "KoOO0-DD8Zse",
        "outputId": "5f6c64e3-b32b-407d-c600-198926e37dfd"
      },
      "execution_count": null,
      "outputs": [
        {
          "output_type": "stream",
          "name": "stdout",
          "text": [
            "Pune\n",
            "Pune\n",
            "Pune\n",
            "Pune\n",
            "Pune\n"
          ]
        }
      ]
    },
    {
      "cell_type": "markdown",
      "source": [
        "membership"
      ],
      "metadata": {
        "id": "B3TkP_K_8c0c"
      }
    },
    {
      "cell_type": "code",
      "source": [
        "print('d' in 'delhi')"
      ],
      "metadata": {
        "colab": {
          "base_uri": "https://localhost:8080/"
        },
        "id": "XQwfsRLm8en9",
        "outputId": "5d74b95c-4f44-40c9-92e6-d8ba4b47632a"
      },
      "execution_count": null,
      "outputs": [
        {
          "output_type": "stream",
          "name": "stdout",
          "text": [
            "True\n"
          ]
        }
      ]
    },
    {
      "cell_type": "markdown",
      "source": [
        "#String Functions\n",
        "\n",
        "1. len\n",
        "2. max\n",
        "3. min\n",
        "4. sorted"
      ],
      "metadata": {
        "id": "lAlvu2gW8lnx"
      }
    },
    {
      "cell_type": "code",
      "source": [
        "print(len(\"Hello\"))"
      ],
      "metadata": {
        "colab": {
          "base_uri": "https://localhost:8080/"
        },
        "id": "EZYe2w318nUh",
        "outputId": "dcd25c19-b2db-458b-8cbf-320a4308f409"
      },
      "execution_count": null,
      "outputs": [
        {
          "output_type": "stream",
          "name": "stdout",
          "text": [
            "5\n"
          ]
        }
      ]
    },
    {
      "cell_type": "code",
      "source": [
        "print(max(\"Hello\"))"
      ],
      "metadata": {
        "colab": {
          "base_uri": "https://localhost:8080/"
        },
        "id": "T171wmAp8wsl",
        "outputId": "070a2cfd-522e-499f-93cb-4273642176b6"
      },
      "execution_count": null,
      "outputs": [
        {
          "output_type": "stream",
          "name": "stdout",
          "text": [
            "o\n"
          ]
        }
      ]
    },
    {
      "cell_type": "code",
      "source": [
        "print(min(\"Hello\"))"
      ],
      "metadata": {
        "colab": {
          "base_uri": "https://localhost:8080/"
        },
        "id": "y67fzGtB80XR",
        "outputId": "eb83b565-5631-4976-c951-ef2b43766bb1"
      },
      "execution_count": null,
      "outputs": [
        {
          "output_type": "stream",
          "name": "stdout",
          "text": [
            "H\n"
          ]
        }
      ]
    },
    {
      "cell_type": "code",
      "source": [
        "print(sorted(\"zberonics\"))"
      ],
      "metadata": {
        "colab": {
          "base_uri": "https://localhost:8080/"
        },
        "id": "cgPsNjpr84Q9",
        "outputId": "034c6c47-28a2-4c30-e462-02ded240c91a"
      },
      "execution_count": null,
      "outputs": [
        {
          "output_type": "stream",
          "name": "stdout",
          "text": [
            "['b', 'c', 'e', 'i', 'n', 'o', 'r', 's', 'z']\n"
          ]
        }
      ]
    },
    {
      "cell_type": "code",
      "source": [
        "print(sorted(\"zberonics\",reverse=True))"
      ],
      "metadata": {
        "colab": {
          "base_uri": "https://localhost:8080/"
        },
        "id": "uWlvEYWk9C5S",
        "outputId": "a04db30d-f23b-4e60-d19a-d2fc953c9f44"
      },
      "execution_count": null,
      "outputs": [
        {
          "output_type": "stream",
          "name": "stdout",
          "text": [
            "['z', 's', 'r', 'o', 'n', 'i', 'e', 'c', 'b']\n"
          ]
        }
      ]
    },
    {
      "cell_type": "markdown",
      "source": [
        "String specific functions"
      ],
      "metadata": {
        "id": "voWqZy4F9RRV"
      }
    },
    {
      "cell_type": "code",
      "source": [
        "s = 'hello World'\n",
        "\n",
        "print(s.capitalize())"
      ],
      "metadata": {
        "colab": {
          "base_uri": "https://localhost:8080/"
        },
        "id": "YGXKeOIi9Tas",
        "outputId": "f43568a3-1621-4351-c152-7de4cb0c6f0a"
      },
      "execution_count": null,
      "outputs": [
        {
          "output_type": "stream",
          "name": "stdout",
          "text": [
            "Hello world\n"
          ]
        }
      ]
    },
    {
      "cell_type": "code",
      "source": [
        "s.title()"
      ],
      "metadata": {
        "colab": {
          "base_uri": "https://localhost:8080/",
          "height": 36
        },
        "id": "jDaQo_lm9bdk",
        "outputId": "66758926-4ac2-4ae3-94b2-c59b5359d2fb"
      },
      "execution_count": null,
      "outputs": [
        {
          "output_type": "execute_result",
          "data": {
            "text/plain": [
              "'Hello World'"
            ],
            "application/vnd.google.colaboratory.intrinsic+json": {
              "type": "string"
            }
          },
          "metadata": {},
          "execution_count": 70
        }
      ]
    },
    {
      "cell_type": "code",
      "source": [
        "s.upper()"
      ],
      "metadata": {
        "colab": {
          "base_uri": "https://localhost:8080/",
          "height": 36
        },
        "id": "Hn5wRYDL9eKh",
        "outputId": "3b67ffe1-d4e5-42cd-bfac-3a965c7bc8cb"
      },
      "execution_count": null,
      "outputs": [
        {
          "output_type": "execute_result",
          "data": {
            "text/plain": [
              "'HELLO WORLD'"
            ],
            "application/vnd.google.colaboratory.intrinsic+json": {
              "type": "string"
            }
          },
          "metadata": {},
          "execution_count": 71
        }
      ]
    },
    {
      "cell_type": "code",
      "source": [
        "s.lower()"
      ],
      "metadata": {
        "colab": {
          "base_uri": "https://localhost:8080/",
          "height": 36
        },
        "id": "4OG3Xm7W9go0",
        "outputId": "7bf62c74-402d-4a1f-8543-90ca0f2a45ae"
      },
      "execution_count": null,
      "outputs": [
        {
          "output_type": "execute_result",
          "data": {
            "text/plain": [
              "'hello world'"
            ],
            "application/vnd.google.colaboratory.intrinsic+json": {
              "type": "string"
            }
          },
          "metadata": {},
          "execution_count": 72
        }
      ]
    },
    {
      "cell_type": "code",
      "source": [
        "s = 'HeLlOwOrLd'\n",
        "s.swapcase()"
      ],
      "metadata": {
        "colab": {
          "base_uri": "https://localhost:8080/",
          "height": 36
        },
        "id": "hjIpoEbW9jaM",
        "outputId": "7720ca69-174c-4085-c7c6-049c6b917ee1"
      },
      "execution_count": null,
      "outputs": [
        {
          "output_type": "execute_result",
          "data": {
            "text/plain": [
              "'hElLoWoRlD'"
            ],
            "application/vnd.google.colaboratory.intrinsic+json": {
              "type": "string"
            }
          },
          "metadata": {},
          "execution_count": 74
        }
      ]
    },
    {
      "cell_type": "markdown",
      "source": [
        "Some other String Functions"
      ],
      "metadata": {
        "id": "mrmnkD-THJJz"
      }
    },
    {
      "cell_type": "code",
      "source": [
        "#count\n",
        "\n",
        "name = 'Prashant'\n",
        "name.count('a')"
      ],
      "metadata": {
        "colab": {
          "base_uri": "https://localhost:8080/"
        },
        "id": "3RR1TS-CHMX3",
        "outputId": "7dae129d-f6cd-4e81-a7b5-5a7d359a4e6e"
      },
      "execution_count": null,
      "outputs": [
        {
          "output_type": "execute_result",
          "data": {
            "text/plain": [
              "2"
            ]
          },
          "metadata": {},
          "execution_count": 76
        }
      ]
    },
    {
      "cell_type": "code",
      "source": [
        "#find\n",
        "sent = 'my name is prashant'\n",
        "sent.find('is')"
      ],
      "metadata": {
        "colab": {
          "base_uri": "https://localhost:8080/"
        },
        "id": "CMwmS8SWHVh2",
        "outputId": "953c6041-ca1d-49c4-9501-a737c28acf15"
      },
      "execution_count": null,
      "outputs": [
        {
          "output_type": "execute_result",
          "data": {
            "text/plain": [
              "8"
            ]
          },
          "metadata": {},
          "execution_count": 78
        }
      ]
    },
    {
      "cell_type": "code",
      "source": [
        "#index\n",
        "\n",
        "sent = 'my name is prashant'\n",
        "sent.index('is')"
      ],
      "metadata": {
        "colab": {
          "base_uri": "https://localhost:8080/"
        },
        "id": "2AiHPDfYHjW6",
        "outputId": "b563676c-a9e1-4217-ba26-b09178ee6e19"
      },
      "execution_count": null,
      "outputs": [
        {
          "output_type": "execute_result",
          "data": {
            "text/plain": [
              "8"
            ]
          },
          "metadata": {},
          "execution_count": 79
        }
      ]
    },
    {
      "cell_type": "code",
      "source": [
        "#endswith\n",
        "\n",
        "sent.endswith('the')"
      ],
      "metadata": {
        "colab": {
          "base_uri": "https://localhost:8080/"
        },
        "id": "-cnfkV9WHrof",
        "outputId": "c56b6485-f505-4e21-fef4-6e9fa4e33dca"
      },
      "execution_count": null,
      "outputs": [
        {
          "output_type": "execute_result",
          "data": {
            "text/plain": [
              "False"
            ]
          },
          "metadata": {},
          "execution_count": 82
        }
      ]
    },
    {
      "cell_type": "code",
      "source": [
        "sent.startswith('my')"
      ],
      "metadata": {
        "colab": {
          "base_uri": "https://localhost:8080/"
        },
        "id": "nskL943YH2Re",
        "outputId": "4052a079-45dc-43cd-a533-c6da8afc4a27"
      },
      "execution_count": null,
      "outputs": [
        {
          "output_type": "execute_result",
          "data": {
            "text/plain": [
              "True"
            ]
          },
          "metadata": {},
          "execution_count": 83
        }
      ]
    },
    {
      "cell_type": "code",
      "source": [
        "#f-string\n",
        "\n",
        "fname = 'popat'\n",
        "lname = 'lal'\n",
        "\n",
        "print(f'my first name is {fname} and last name is {lname}')"
      ],
      "metadata": {
        "colab": {
          "base_uri": "https://localhost:8080/"
        },
        "id": "cL_uBWoDH6jw",
        "outputId": "5cbcb6ec-1cbf-48da-e257-1b3826d3ffbd"
      },
      "execution_count": null,
      "outputs": [
        {
          "output_type": "stream",
          "name": "stdout",
          "text": [
            "my first name is popat and last name is lal\n"
          ]
        }
      ]
    },
    {
      "cell_type": "markdown",
      "source": [
        "isalnum / isalpha / isdigit / isidentifier"
      ],
      "metadata": {
        "id": "a-jJvCx1Ib10"
      }
    },
    {
      "cell_type": "code",
      "source": [
        "s = 'prashant2601'\n",
        "\n",
        "print(s.isalnum())"
      ],
      "metadata": {
        "colab": {
          "base_uri": "https://localhost:8080/"
        },
        "id": "UT6sxm0-Ig1r",
        "outputId": "cbfb370f-e872-4f83-efa8-d4a4bd8856bb"
      },
      "execution_count": null,
      "outputs": [
        {
          "output_type": "stream",
          "name": "stdout",
          "text": [
            "True\n"
          ]
        }
      ]
    },
    {
      "cell_type": "code",
      "source": [
        "print(s.isalpha())"
      ],
      "metadata": {
        "colab": {
          "base_uri": "https://localhost:8080/"
        },
        "id": "TfaJ6qhqIpjY",
        "outputId": "2e66a20c-1491-4599-84a6-51e9c731b289"
      },
      "execution_count": null,
      "outputs": [
        {
          "output_type": "stream",
          "name": "stdout",
          "text": [
            "False\n"
          ]
        }
      ]
    },
    {
      "cell_type": "code",
      "source": [
        "s = '1234'\n",
        "print(s.isdigit())"
      ],
      "metadata": {
        "colab": {
          "base_uri": "https://localhost:8080/"
        },
        "id": "g4PdmCXrItSV",
        "outputId": "f257263b-123f-44f0-a5df-18f69aa12e48"
      },
      "execution_count": null,
      "outputs": [
        {
          "output_type": "stream",
          "name": "stdout",
          "text": [
            "True\n"
          ]
        }
      ]
    },
    {
      "cell_type": "code",
      "source": [
        "#valid identifier or variable\n",
        "\n",
        "s = '1name'\n",
        "s.isidentifier()"
      ],
      "metadata": {
        "colab": {
          "base_uri": "https://localhost:8080/"
        },
        "id": "c4yNxPDEIzRU",
        "outputId": "6d535e56-0b42-48a4-ea3e-dbf01a194e93"
      },
      "execution_count": null,
      "outputs": [
        {
          "output_type": "execute_result",
          "data": {
            "text/plain": [
              "False"
            ]
          },
          "metadata": {},
          "execution_count": 94
        }
      ]
    },
    {
      "cell_type": "code",
      "source": [
        "s = 'name1'\n",
        "s.isidentifier()"
      ],
      "metadata": {
        "colab": {
          "base_uri": "https://localhost:8080/"
        },
        "id": "Vd-EjykKI_GC",
        "outputId": "91923bd1-a8ed-4217-db86-f357062cc623"
      },
      "execution_count": null,
      "outputs": [
        {
          "output_type": "execute_result",
          "data": {
            "text/plain": [
              "True"
            ]
          },
          "metadata": {},
          "execution_count": 95
        }
      ]
    },
    {
      "cell_type": "markdown",
      "source": [
        "split / join"
      ],
      "metadata": {
        "id": "Eoho-6eXJIEU"
      }
    },
    {
      "cell_type": "code",
      "source": [
        "sent = 'my name is prashant jain'\n",
        "sent.split()"
      ],
      "metadata": {
        "colab": {
          "base_uri": "https://localhost:8080/"
        },
        "id": "dYfBEPZDJJ-e",
        "outputId": "1acd5476-9f91-44dd-ba48-09ec9e463bdd"
      },
      "execution_count": null,
      "outputs": [
        {
          "output_type": "execute_result",
          "data": {
            "text/plain": [
              "['my', 'name', 'is', 'prashant', 'jain']"
            ]
          },
          "metadata": {},
          "execution_count": 100
        }
      ]
    },
    {
      "cell_type": "code",
      "source": [
        "sent = 'my name is prashant jain'\n",
        "sent.split('is')"
      ],
      "metadata": {
        "colab": {
          "base_uri": "https://localhost:8080/"
        },
        "id": "MeJFzh4yJeKR",
        "outputId": "0fed57e7-c60e-408f-8d8c-3fced4d82b1d"
      },
      "execution_count": null,
      "outputs": [
        {
          "output_type": "execute_result",
          "data": {
            "text/plain": [
              "['my name ', ' prashant jain']"
            ]
          },
          "metadata": {},
          "execution_count": 101
        }
      ]
    },
    {
      "cell_type": "code",
      "source": [
        "tex = ['my', 'name', 'is', 'prashant', 'jain']\n",
        "\" and \".join(tex)"
      ],
      "metadata": {
        "colab": {
          "base_uri": "https://localhost:8080/",
          "height": 36
        },
        "id": "rKh6ugJpJiuC",
        "outputId": "f5d1cdd2-d90f-41da-fdb6-55c114b738bd"
      },
      "execution_count": null,
      "outputs": [
        {
          "output_type": "execute_result",
          "data": {
            "text/plain": [
              "'my and name and is and prashant and jain'"
            ],
            "application/vnd.google.colaboratory.intrinsic+json": {
              "type": "string"
            }
          },
          "metadata": {},
          "execution_count": 108
        }
      ]
    },
    {
      "cell_type": "code",
      "source": [
        "tex = ['my', 'name', 'is', 'prashant', 'jain']\n",
        "\" - \".join(tex)"
      ],
      "metadata": {
        "colab": {
          "base_uri": "https://localhost:8080/",
          "height": 36
        },
        "id": "dAhZgGe7KG1P",
        "outputId": "661a5f0b-b957-4a0e-b6b7-6906d5b8fa8b"
      },
      "execution_count": null,
      "outputs": [
        {
          "output_type": "execute_result",
          "data": {
            "text/plain": [
              "'my - name - is - prashant - jain'"
            ],
            "application/vnd.google.colaboratory.intrinsic+json": {
              "type": "string"
            }
          },
          "metadata": {},
          "execution_count": 109
        }
      ]
    },
    {
      "cell_type": "code",
      "source": [
        "#replace\n",
        "\n",
        "'my name is prashant'.replace('prashant','J')"
      ],
      "metadata": {
        "colab": {
          "base_uri": "https://localhost:8080/",
          "height": 36
        },
        "id": "jon2zfr5KJf7",
        "outputId": "afb82199-188d-4e5f-99c7-97c215afa260"
      },
      "execution_count": null,
      "outputs": [
        {
          "output_type": "execute_result",
          "data": {
            "text/plain": [
              "'my name is J'"
            ],
            "application/vnd.google.colaboratory.intrinsic+json": {
              "type": "string"
            }
          },
          "metadata": {},
          "execution_count": 110
        }
      ]
    },
    {
      "cell_type": "code",
      "source": [
        "#strip\n",
        "\n",
        "'prashant       '.strip()"
      ],
      "metadata": {
        "colab": {
          "base_uri": "https://localhost:8080/",
          "height": 36
        },
        "id": "-Sdu0eYEKYG7",
        "outputId": "adc4c98c-bade-4fe5-f337-25d42d813c34"
      },
      "execution_count": null,
      "outputs": [
        {
          "output_type": "execute_result",
          "data": {
            "text/plain": [
              "'prashant'"
            ],
            "application/vnd.google.colaboratory.intrinsic+json": {
              "type": "string"
            }
          },
          "metadata": {},
          "execution_count": 115
        }
      ]
    },
    {
      "cell_type": "markdown",
      "source": [
        "#Programming problmes with strings"
      ],
      "metadata": {
        "id": "BTvwDBev3GS5"
      }
    },
    {
      "cell_type": "code",
      "source": [
        "#find length of given string without using length function\n",
        "\n",
        "strx = input(\"Enter a string: \")\n",
        "counter = 0\n",
        "\n",
        "for i in strx:\n",
        "  counter += 1\n",
        "\n",
        "print(counter)  "
      ],
      "metadata": {
        "id": "jZHUSybc7ywG",
        "colab": {
          "base_uri": "https://localhost:8080/"
        },
        "outputId": "6812bc6f-259a-4446-9c32-bc6bef4cc32b"
      },
      "execution_count": 5,
      "outputs": [
        {
          "output_type": "stream",
          "name": "stdout",
          "text": [
            "Enter a string: my name is prasahant jain and im a good boy\n",
            "43\n"
          ]
        }
      ]
    },
    {
      "cell_type": "code",
      "source": [
        "#extract username from given email\n",
        "\n",
        "email = input('Enter your email')\n",
        "pos = email.index('@')\n",
        "print(email[:pos])"
      ],
      "metadata": {
        "id": "6rcYLgBt8uad",
        "colab": {
          "base_uri": "https://localhost:8080/"
        },
        "outputId": "67a68d96-c756-478f-c9e5-a4be513038dc"
      },
      "execution_count": null,
      "outputs": [
        {
          "output_type": "stream",
          "name": "stdout",
          "text": [
            "Enter your emailiamprashantjain2601@gmail.com\n",
            "iamprashantjain2601\n"
          ]
        }
      ]
    },
    {
      "cell_type": "code",
      "source": [
        "#count the specific character count in a string\n",
        "\n",
        "strx = input('Enter your email')\n",
        "term = input(\"which word frequency you want to know: \")\n",
        "\n",
        "counter = 0\n",
        "for i in strx:\n",
        "  if i == term:\n",
        "    counter += 1\n",
        "\n",
        "print(\"frequency of given term is: \",counter)    \n"
      ],
      "metadata": {
        "colab": {
          "base_uri": "https://localhost:8080/"
        },
        "id": "OMJbXRAs4WCE",
        "outputId": "9403571d-2ab9-4b9a-f801-339a0b9b8afc"
      },
      "execution_count": 2,
      "outputs": [
        {
          "output_type": "stream",
          "name": "stdout",
          "text": [
            "Enter your emailiamprashantjain2601@gmail.com\n",
            "which word frequency you want to know: a\n",
            "frequency of given term is:  5\n"
          ]
        }
      ]
    },
    {
      "cell_type": "code",
      "source": [
        "#write a program to remove a charcter in string\n",
        "\n",
        "strx = input('Enter your email')\n",
        "term = input(\"what would you like to remove: \")\n",
        "\n",
        "result = ''\n",
        "\n",
        "for i in strx:\n",
        "  if i != term:\n",
        "    result = result + i\n",
        "    \n",
        "\n",
        "print(result)    "
      ],
      "metadata": {
        "colab": {
          "base_uri": "https://localhost:8080/"
        },
        "id": "58Xsl3FB46Nu",
        "outputId": "2d444b09-b91d-4acb-d980-c4a420fe906d"
      },
      "execution_count": 7,
      "outputs": [
        {
          "output_type": "stream",
          "name": "stdout",
          "text": [
            "Enter your emailiamprashantjain\n",
            "what would you like to remove: a\n",
            "imprshntjin\n"
          ]
        }
      ]
    },
    {
      "cell_type": "code",
      "source": [
        "#write a program to find whether a given string is palindrome or not\n",
        "\n",
        "#abba\n",
        "#malayalam\n",
        "\n",
        "word = input(\"Enter a word \")\n",
        "flag = True\n",
        "\n",
        "for i in range(0,len(word) // 2):\n",
        "  if word[i] != word[len(word) - i -1]:\n",
        "    flag = False\n",
        "    print(\"Not a Palindrome\")\n",
        "    break\n",
        "\n",
        "if flag:\n",
        "  print(\"Palindrome\")"
      ],
      "metadata": {
        "colab": {
          "base_uri": "https://localhost:8080/"
        },
        "id": "HYGw7w1b5W4m",
        "outputId": "69615a06-8053-407b-92d4-d64f51cb9b78"
      },
      "execution_count": null,
      "outputs": [
        {
          "output_type": "stream",
          "name": "stdout",
          "text": [
            "Enter a word malayalam\n",
            "Palindrome\n"
          ]
        }
      ]
    },
    {
      "cell_type": "markdown",
      "source": [
        "#Task 2"
      ],
      "metadata": {
        "id": "gFkEMHTnOIR7"
      }
    },
    {
      "cell_type": "markdown",
      "source": [
        "### `Problem 1`: Write a program that will give you in hand monthly salary after deduction on CTC - HRA(10%), DA(5%), PF(3%) and taxes deduction as below:\n",
        "\n",
        "> Salary(Lakhs) : Tax(%)\n",
        "\n",
        "*   Below 5 : 0%\n",
        "*   5-10 : 10%\n",
        "*   10-20 : 20%\n",
        "*   aboove 20 : 30%"
      ],
      "metadata": {
        "id": "w6RlOAXV2PWh"
      }
    },
    {
      "cell_type": "code",
      "source": [
        "# Write code here\n",
        "#write your code\n",
        "ctc = int(input('Enter your anual CTC:'))\n",
        "\n",
        "if ctc < 5000000:\n",
        "    salary=ctc*.82\n",
        "elif ctc<1000000:\n",
        "    salary=ctc*.72\n",
        "elif ctc<2000000:\n",
        "    salary=ctc*.62\n",
        "else:\n",
        "    salary=ctc*.52\n",
        "\n",
        "print(\"You in hand monthly salary will be-\", round(salary/12,2))"
      ],
      "metadata": {
        "id": "7tMHvKYO2etI",
        "colab": {
          "base_uri": "https://localhost:8080/"
        },
        "outputId": "bfddfad8-af96-46cf-8416-aeb68b5ff96f"
      },
      "execution_count": 8,
      "outputs": [
        {
          "output_type": "stream",
          "name": "stdout",
          "text": [
            "Enter your anual CTC:100000\n",
            "You in hand monthly salary will be- 6833.33\n"
          ]
        }
      ]
    },
    {
      "cell_type": "markdown",
      "source": [
        "### `Problem 2`: Write a program that take a user input of three angles and will find out whether it can form a triangle or not.\n",
        "\n",
        "Hint - Sum of all angles is 180 and all angles are positive"
      ],
      "metadata": {
        "id": "tYzCGqwl2hfN"
      }
    },
    {
      "cell_type": "code",
      "source": [
        "# Write code here\n",
        "first = int(input('enter the 1st angle'))\n",
        "second = int(input('enter the 2nd angle'))\n",
        "third = int(input('enter the 3rd angle'))\n",
        "\n",
        "if (first+second+third) == 180 and first>0 and second>0 and third>0:\n",
        "  print('forms a triangle')\n",
        "else:\n",
        "  print('does not form a triangle')"
      ],
      "metadata": {
        "id": "FYEqln-I2kxV",
        "colab": {
          "base_uri": "https://localhost:8080/"
        },
        "outputId": "179931d6-6a73-43fb-ceaf-55150ebacd30"
      },
      "execution_count": 9,
      "outputs": [
        {
          "output_type": "stream",
          "name": "stdout",
          "text": [
            "enter the 1st angle45\n",
            "enter the 2nd angle135\n",
            "enter the 3rd angle90\n",
            "does not form a triangle\n"
          ]
        }
      ]
    },
    {
      "cell_type": "markdown",
      "source": [
        "### `Problem 3`: Write a program that will take user input of cost price and selling price and determines whether its a loss or a profit."
      ],
      "metadata": {
        "id": "5vEpPh8C2pE4"
      }
    },
    {
      "cell_type": "code",
      "source": [
        "# Write code here\n",
        "# write your code here \n",
        "cost_price = int(input('Enter cost price-'))\n",
        "selling_price = int(input('Enter selling price-'))\n",
        "\n",
        "if cost_price < selling_price:\n",
        "    print('Profit')\n",
        "elif cost_price > selling_price:\n",
        "    print('Loss')\n",
        "else:\n",
        "    print('No Loss No Gain')"
      ],
      "metadata": {
        "id": "jDwBXlkO2sfl",
        "colab": {
          "base_uri": "https://localhost:8080/"
        },
        "outputId": "9ca8214f-a0e2-48ac-8ada-2a61ddf4023d"
      },
      "execution_count": null,
      "outputs": [
        {
          "output_type": "stream",
          "name": "stdout",
          "text": [
            "Enter cost price-6000\n",
            "Enter selling price-12000\n",
            "Profit\n"
          ]
        }
      ]
    },
    {
      "cell_type": "markdown",
      "source": [
        "### `Problem 4`: Write a menu-driven program - \n",
        "1. cm to ft \n",
        "2. km to miles \n",
        "3. USD to INR \n",
        "4. exit\n",
        "\n",
        "Hint\n",
        "- 1 cm = 0.032ft\n",
        "- 1km = 0.62\n",
        "- 1 USD = 80 INR"
      ],
      "metadata": {
        "id": "J_FG_cJW2ugT"
      }
    },
    {
      "cell_type": "code",
      "source": [
        "# Write code here\n",
        "menu = input(\"\"\"\n",
        "Hi select an option\n",
        "1. cms to ft\n",
        "2. km to miles\n",
        "3. USD to INR\n",
        "4. Exit\n",
        "\"\"\")\n",
        "\n",
        "if menu == '1':\n",
        "  cm = float(input('enter the cm value'))\n",
        "  print('ft value is',0.032*cm)\n",
        "elif menu == '2':\n",
        "  km = float(input('enter the km value'))\n",
        "  print('miles value is',km*0.62)\n",
        "elif menu == '3':\n",
        "  usd = float(input('enter usd'))\n",
        "  print('inr',usd*80)\n",
        "else:\n",
        "  exit()"
      ],
      "metadata": {
        "id": "yBHhaCGQ2zpD",
        "colab": {
          "base_uri": "https://localhost:8080/"
        },
        "outputId": "51f14c44-b21a-4bbd-f30d-ebdf80f9bfbc"
      },
      "execution_count": 10,
      "outputs": [
        {
          "output_type": "stream",
          "name": "stdout",
          "text": [
            "\n",
            "Hi select an option\n",
            "1. cms to ft\n",
            "2. km to miles\n",
            "3. USD to INR\n",
            "4. Exit\n",
            "1\n",
            "enter the cm value70\n",
            "ft value is 2.24\n"
          ]
        }
      ]
    },
    {
      "cell_type": "markdown",
      "source": [
        "### `Problem 5` - Exercise 12: Display Fibonacci series up to 10 terms.\n",
        "\n",
        "*Note: The Fibonacci Sequence is a series of numbers. The next number is found by adding up the two numbers before it. The first two numbers are 0 and 1. For example, 0, 1, 1, 2, 3, 5, 8, 13, 21. The next number in this series above is 13+21 = 34*"
      ],
      "metadata": {
        "id": "LJJ30_Yw27ZU"
      }
    },
    {
      "cell_type": "code",
      "source": [
        "# Write code here\n",
        "\n",
        "num1,num2 = 0,1\n",
        "\n",
        "for i in range(10):\n",
        "  print(num1)\n",
        "\n",
        "  next = num1 + num2\n",
        "\n",
        "  num1 = num2\n",
        "  num2 = next"
      ],
      "metadata": {
        "id": "ae_1rpe52-5R",
        "colab": {
          "base_uri": "https://localhost:8080/"
        },
        "outputId": "d2d09f2e-1023-4e12-c182-30711a87f2ec"
      },
      "execution_count": 11,
      "outputs": [
        {
          "output_type": "stream",
          "name": "stdout",
          "text": [
            "0\n",
            "1\n",
            "1\n",
            "2\n",
            "3\n",
            "5\n",
            "8\n",
            "13\n",
            "21\n",
            "34\n"
          ]
        }
      ]
    },
    {
      "cell_type": "markdown",
      "source": [
        "### `Problem 6` - Find the factorial of a given number.\n",
        "\n",
        "Write a program to use the loop to find the factorial of a given number.\n",
        "\n",
        "The factorial (symbol: `!`) means to multiply all whole numbers from the chosen number down to 1.\n",
        "\n",
        "For example: calculate the factorial of 5\n",
        "\n",
        "```bash\n",
        "5! = 5 × 4 × 3 × 2 × 1 = 120\n",
        "```\n",
        "\n",
        "Output: \n",
        "\n",
        "```bash\n",
        "120\n",
        "```"
      ],
      "metadata": {
        "id": "pk_I_S4m3PT5"
      }
    },
    {
      "cell_type": "code",
      "source": [
        "# Write code here\n",
        "num = int(input('enter the number'))\n",
        "\n",
        "fact = 1\n",
        "for i in range(1,num+1):\n",
        "  fact = fact*i\n",
        "\n",
        "print(fact)\n"
      ],
      "metadata": {
        "id": "lzXxHegx3Rkc",
        "colab": {
          "base_uri": "https://localhost:8080/"
        },
        "outputId": "e931d5b4-6cdf-4448-eca4-f9595dfb24ab"
      },
      "execution_count": null,
      "outputs": [
        {
          "output_type": "stream",
          "name": "stdout",
          "text": [
            "enter the number5\n",
            "120\n"
          ]
        }
      ]
    },
    {
      "cell_type": "markdown",
      "source": [
        "### `Problem 7` - Reverse a given integer number.\n",
        "\n",
        "Example:\n",
        "\n",
        "`Input:`\n",
        "\n",
        "```bash\n",
        "76542\n",
        "```\n",
        "\n",
        "`Output:`\n",
        "\n",
        "```bash\n",
        "24567\n",
        "```"
      ],
      "metadata": {
        "id": "-17IOi-g3UpU"
      }
    },
    {
      "cell_type": "code",
      "source": [
        "# Write code here\n",
        "number = int(input('enter the number'))\n",
        "\n",
        "rev = 0\n",
        "\n",
        "while number>0:\n",
        "  last = number%10\n",
        "  rev = rev*10 + last\n",
        "  number = number//10\n",
        "\n",
        "print(rev)"
      ],
      "metadata": {
        "id": "wJwLpKCr3aVA",
        "colab": {
          "base_uri": "https://localhost:8080/"
        },
        "outputId": "d99c907f-021a-4c25-f0e4-92930828e5ae"
      },
      "execution_count": null,
      "outputs": [
        {
          "output_type": "stream",
          "name": "stdout",
          "text": [
            "enter the number123456\n",
            "654321\n"
          ]
        }
      ]
    },
    {
      "cell_type": "markdown",
      "source": [
        "### `Problem 8`: Take a user input as integer N. Find out the sum from 1 to N. If any number if divisible by 5, then skip that number. And if the sum is greater than 300, don't need to calculate the sum further more. Print the final result. And don't use for loop to solve this problem.\n",
        "\n",
        "**Example 1:**\n",
        "\n",
        "`Input:`\n",
        "\n",
        "```bash\n",
        "30\n",
        "```\n",
        "\n",
        "`Output:`\n",
        "\n",
        "```bash\n",
        "276\n",
        "```"
      ],
      "metadata": {
        "id": "-t8PJQaY3sHf"
      }
    },
    {
      "cell_type": "code",
      "source": [
        "# Write code here\n",
        "N = int(input('enter the number'))\n",
        "sum = 0\n",
        "i = 1\n",
        "\n",
        "while i < N+1:\n",
        "  if i % 5 == 0:\n",
        "    i+=1\n",
        "    continue\n",
        "\n",
        "  sum += i\n",
        "\n",
        "  if sum > 300:\n",
        "    sum = sum - i\n",
        "    break\n",
        "\n",
        "  i+=1\n",
        "\n",
        "print(sum)\n"
      ],
      "metadata": {
        "id": "GZB6mGMP3ujT",
        "colab": {
          "base_uri": "https://localhost:8080/"
        },
        "outputId": "9ea462ad-b81a-41d8-a9ee-b2362b15b2fb"
      },
      "execution_count": null,
      "outputs": [
        {
          "output_type": "stream",
          "name": "stdout",
          "text": [
            "enter the number50\n",
            "276\n"
          ]
        }
      ]
    },
    {
      "cell_type": "markdown",
      "source": [
        "### `Problem 9`: Write a program that keeps on accepting a number from the user until the user enters Zero. Display the sum and average of all the numbers."
      ],
      "metadata": {
        "id": "Q7ggImeA3xm4"
      }
    },
    {
      "cell_type": "code",
      "source": [
        "# Write code here\n",
        "sum = 0\n",
        "count = 0\n",
        "\n",
        "while True:\n",
        "  num = int(input('enter number'))\n",
        "  if num == 0:\n",
        "    break\n",
        "  sum = sum + num\n",
        "  count = count + 1\n",
        "\n",
        "print('sum',sum)\n",
        "print('avg',sum/count)"
      ],
      "metadata": {
        "id": "t_YDSZDe4Kdo",
        "colab": {
          "base_uri": "https://localhost:8080/"
        },
        "outputId": "5fd8c6df-5c25-4248-9af1-38c8c372c446"
      },
      "execution_count": null,
      "outputs": [
        {
          "output_type": "stream",
          "name": "stdout",
          "text": [
            "enter number1\n",
            "enter number2\n",
            "enter number3\n",
            "enter number4\n",
            "enter number5\n",
            "enter number0\n",
            "sum 15\n",
            "avg 3.0\n"
          ]
        }
      ]
    },
    {
      "cell_type": "markdown",
      "source": [
        "###`Problem 9`: Write a program which will find all such numbers which are divisible by 7 but are not a multiple of 5, between 2000 and 3200 (both included). The numbers obtained should be printed in a comma-separated sequence on a single line."
      ],
      "metadata": {
        "id": "6EhvEMvm4R7s"
      }
    },
    {
      "cell_type": "code",
      "source": [
        "# Write code here\n",
        "L = []\n",
        "for i in range(2000,3201):\n",
        "  if i % 7 == 0 and i % 5 != 0:\n",
        "    L.append(str(i))\n",
        "\n",
        "print(\",\".join(L))\n"
      ],
      "metadata": {
        "id": "d6RgP1B34T6c",
        "colab": {
          "base_uri": "https://localhost:8080/"
        },
        "outputId": "62fc7ad1-30c0-4829-cc1c-89b19562c56c"
      },
      "execution_count": null,
      "outputs": [
        {
          "output_type": "stream",
          "name": "stdout",
          "text": [
            "2002,2009,2016,2023,2037,2044,2051,2058,2072,2079,2086,2093,2107,2114,2121,2128,2142,2149,2156,2163,2177,2184,2191,2198,2212,2219,2226,2233,2247,2254,2261,2268,2282,2289,2296,2303,2317,2324,2331,2338,2352,2359,2366,2373,2387,2394,2401,2408,2422,2429,2436,2443,2457,2464,2471,2478,2492,2499,2506,2513,2527,2534,2541,2548,2562,2569,2576,2583,2597,2604,2611,2618,2632,2639,2646,2653,2667,2674,2681,2688,2702,2709,2716,2723,2737,2744,2751,2758,2772,2779,2786,2793,2807,2814,2821,2828,2842,2849,2856,2863,2877,2884,2891,2898,2912,2919,2926,2933,2947,2954,2961,2968,2982,2989,2996,3003,3017,3024,3031,3038,3052,3059,3066,3073,3087,3094,3101,3108,3122,3129,3136,3143,3157,3164,3171,3178,3192,3199\n"
          ]
        }
      ]
    },
    {
      "cell_type": "markdown",
      "source": [
        "###`Problem 10`: Write a program, which will find all such numbers between 1000 and 3000 (both included) such that each digit of the number is an even number. The numbers obtained should be printed in a space-separated sequence on a single line.\n",
        "\n"
      ],
      "metadata": {
        "id": "tYvmRR-G4Vp4"
      }
    },
    {
      "cell_type": "code",
      "source": [
        "# Write code here\n",
        "L = []\n",
        "for i in range(1000,3001):\n",
        "  flag = True\n",
        "\n",
        "  curr = i\n",
        "\n",
        "  while curr > 0:\n",
        "    last = curr%10\n",
        "    if last % 2 != 0:\n",
        "      flag = False\n",
        "      break\n",
        "    curr = curr//10\n",
        "\n",
        "  if flag == True:\n",
        "    L.append(str(i))\n",
        "\n",
        "print(\",\".join(L))"
      ],
      "metadata": {
        "id": "k6Gs1kIf4k19",
        "colab": {
          "base_uri": "https://localhost:8080/"
        },
        "outputId": "cdcbd47d-3d61-4592-e018-3a6e117162f1"
      },
      "execution_count": null,
      "outputs": [
        {
          "output_type": "stream",
          "name": "stdout",
          "text": [
            "2000,2002,2004,2006,2008,2020,2022,2024,2026,2028,2040,2042,2044,2046,2048,2060,2062,2064,2066,2068,2080,2082,2084,2086,2088,2200,2202,2204,2206,2208,2220,2222,2224,2226,2228,2240,2242,2244,2246,2248,2260,2262,2264,2266,2268,2280,2282,2284,2286,2288,2400,2402,2404,2406,2408,2420,2422,2424,2426,2428,2440,2442,2444,2446,2448,2460,2462,2464,2466,2468,2480,2482,2484,2486,2488,2600,2602,2604,2606,2608,2620,2622,2624,2626,2628,2640,2642,2644,2646,2648,2660,2662,2664,2666,2668,2680,2682,2684,2686,2688,2800,2802,2804,2806,2808,2820,2822,2824,2826,2828,2840,2842,2844,2846,2848,2860,2862,2864,2866,2868,2880,2882,2884,2886,2888\n"
          ]
        }
      ]
    },
    {
      "cell_type": "markdown",
      "source": [
        "###`Problem 11`: A robot moves in a plane starting from the original point (0,0). The robot can move toward UP, DOWN, LEFT and RIGHT with a given steps. \n",
        "The trace of robot movement is shown as the following:\n",
        "```\n",
        "UP 5\n",
        "DOWN 3\n",
        "LEFT 3\n",
        "RIGHT 2\n",
        "!\n",
        "```\n",
        "> The numbers after the direction are steps. \n",
        "\n",
        "> `!` means robot stop there.\n",
        "\n",
        "**Please write a program to compute the distance from current position after a sequence of movement and original point.** \n",
        "\n",
        "*If the distance is a float, then just print the nearest integer.*\n",
        "\n",
        "Example:\n",
        "\n",
        "`Input`:\n",
        "```\n",
        "UP 5\n",
        "DOWN 3\n",
        "LEFT 3\n",
        "RIGHT 2\n",
        "!\n",
        "```\n",
        "`Output`:\n",
        "```\n",
        "2\n",
        "```"
      ],
      "metadata": {
        "id": "GV18IINT4mf5"
      }
    },
    {
      "cell_type": "code",
      "source": [
        "# Write code here\n",
        "pos = [0,0]\n",
        "while True:\n",
        "  s = input('Enter the robot path')\n",
        "  if s == '!':\n",
        "    break\n",
        "  direction = s.split()[0]\n",
        "  steps = int(s.split()[1])\n",
        "\n",
        "  if direction == 'UP':\n",
        "    pos[1] = pos[1] + steps\n",
        "  elif direction == 'DOWN':\n",
        "    pos[1] = pos[1] - steps\n",
        "  elif direction == 'LEFT':\n",
        "    pos[0] = pos[0] - steps\n",
        "  elif direction == 'RIGHT':\n",
        "    pos[0] = pos[0] + steps\n",
        "  else:\n",
        "    pass\n",
        "\n",
        "print('new pos',pos)\n",
        "print((pos[0]**2 + pos[1]**2)**0.5)\n",
        "\n",
        "\n",
        "\n",
        "\n"
      ],
      "metadata": {
        "id": "6UNMC2aR4w5x",
        "colab": {
          "base_uri": "https://localhost:8080/"
        },
        "outputId": "1508a042-5a7c-4699-ed52-b23f0782d125"
      },
      "execution_count": null,
      "outputs": [
        {
          "output_type": "stream",
          "name": "stdout",
          "text": [
            "Enter the robot pathUP 10\n",
            "Enter the robot pathDOWN 5\n",
            "Enter the robot pathLEFT 13\n",
            "Enter the robot path!\n",
            "new pos [-13, 5]\n",
            "13.92838827718412\n"
          ]
        }
      ]
    },
    {
      "cell_type": "markdown",
      "source": [
        "###`Problem 12`:Write a program to print whether a given number is a prime number or not"
      ],
      "metadata": {
        "id": "3fsAIAhK5GYY"
      }
    },
    {
      "cell_type": "code",
      "source": [
        "# Write code here\n",
        "num = int(input('enter the num'))\n",
        "\n",
        "flag = True\n",
        "for i in range(2,num):\n",
        "  if num%i == 0:\n",
        "    flag = False\n",
        "    break\n",
        "\n",
        "if flag == True:\n",
        "  print('Prime')\n",
        "else:\n",
        "  print('Not Prime')\n",
        "\n",
        "\n"
      ],
      "metadata": {
        "id": "j6y91lxy5LZs",
        "colab": {
          "base_uri": "https://localhost:8080/"
        },
        "outputId": "30254bcb-0e39-4f28-fb79-35b065459779"
      },
      "execution_count": null,
      "outputs": [
        {
          "output_type": "stream",
          "name": "stdout",
          "text": [
            "enter the num21\n",
            "Not Prime\n"
          ]
        }
      ]
    },
    {
      "cell_type": "markdown",
      "source": [
        "###`Problem 13`:Print all the Armstrong numbers in a given range.\n",
        "Range will be provided by the user<br>\n",
        "Armstrong number is a number that is equal to the sum of cubes of its digits. For example 0, 1, 153, 370, 371 and 407 are the Armstrong numbers."
      ],
      "metadata": {
        "id": "asAbmbK-5NHv"
      }
    },
    {
      "cell_type": "code",
      "source": [
        "# Write code here"
      ],
      "metadata": {
        "id": "PZuI67pm5jCT"
      },
      "execution_count": null,
      "outputs": []
    },
    {
      "cell_type": "markdown",
      "source": [
        "###`Problem 14`:Calculate the angle between the hour hand and minute hand.\n",
        "\n",
        "Note: There can be two angles between hands; we need to print a minimum of two. Also, we need to print the floor of the final result angle. For example, if the final angle is 10.61, we need to print 10.\n",
        "\n",
        "Input:<br>\n",
        "H = 9 , M = 0<br>\n",
        "Output:<br>\n",
        "90<br>\n",
        "Explanation:<br>\n",
        "The minimum angle between hour and minute\n",
        "hand when the time is 9 is 90 degress."
      ],
      "metadata": {
        "id": "ClCQZMqT7gK0"
      }
    },
    {
      "cell_type": "code",
      "source": [
        "# Write code here"
      ],
      "metadata": {
        "id": "tNBTCZML7jy_"
      },
      "execution_count": null,
      "outputs": []
    },
    {
      "cell_type": "markdown",
      "source": [
        "###`Problem 15`:Given two rectangles, find if the given two rectangles overlap or not. A rectangle is denoted by providing the x and y coordinates of two points: the left top corner and the right bottom corner of the rectangle. Two rectangles sharing a side are considered overlapping. (L1 and R1 are the extreme points of the first rectangle and L2 and R2 are the extreme points of the second rectangle).\n",
        "\n",
        "Note: It may be assumed that the rectangles are parallel to the coordinate axis.\n",
        "\n",
        "<img src='https://www.geeksforgeeks.org/wp-content/uploads/rectanglesOverlap.png' width='300' height='200'>"
      ],
      "metadata": {
        "id": "GwacF9Co72Qc"
      }
    },
    {
      "cell_type": "code",
      "source": [
        "# Write code here"
      ],
      "metadata": {
        "id": "6rrw_lpH78Rs"
      },
      "execution_count": null,
      "outputs": []
    }
  ]
}